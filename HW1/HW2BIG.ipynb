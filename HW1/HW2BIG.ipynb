{
  "nbformat": 4,
  "nbformat_minor": 0,
  "metadata": {
    "colab": {
      "provenance": []
    },
    "kernelspec": {
      "name": "python3",
      "display_name": "Python 3"
    }
  },
  "cells": [
    {
      "cell_type": "markdown",
      "metadata": {
        "id": "ABs6xC-hWIjM"
      },
      "source": [
        "#Άσκηση 1 , Νευρωνικά Δίκτυα"
      ]
    },
    {
      "cell_type": "markdown",
      "metadata": {
        "id": "92G6ZHQXWJQe"
      },
      "source": [
        "##Α. Στοιχεία Ομάδας 15\n",
        "Διολετη\tΊλια \t03115055 <br>\n",
        "Σουμπασάκου\tΑρτεμησία\t03115061 <br>\n",
        "Κυριάκου \tΑθηνά \t03117405"
      ]
    },
    {
      "cell_type": "markdown",
      "metadata": {
        "id": "pC6HjyoKWOit"
      },
      "source": [
        "##Β. Εισαγωγή του Dataset"
      ]
    },
    {
      "cell_type": "markdown",
      "metadata": {
        "id": "c0sVZQ1aLtiH"
      },
      "source": [
        "Το spambase dataset είναι μια συλλογή e-mails με περιεχόμενο \"σπαμ\" δηλαδή διαφημιστικό, οικονομικές απάτες, μηνύματα αλυσίδας, πορνογραφία κ.α. <br> Τα μη-σπαμ μηνύματα προέρχονται από επαγγελματικά και προσωπικά μειλ που έχουν κατατεθεί. Αυτά περιέχουν ονόματα και κωδικούς περιοχών και είναι επομένως χρήσιμα για δημιουργία εξατομικευμένων φίλτρων σπαμ. <br><br>\n",
        "Περιέχει **4601 δείγματα 57 χαρακτηριστικά**. Πιo συγκεκριμένα: <br>\n",
        "* 48 χαρακτηριστικά word_freq_WORD (συνεχείς πραγματικες μεταβλητές WORD στο [0,100]) = αφορούν το ποσοστό λέξεων του μηνύματος που είναι ίδιες με το WORD.\n",
        "<br>\n",
        "* 6 χαρακτηριστικά char_freq_CHAR (συνεχείς πραγματικες μεταβλητές CHAR στο [0,100])= αφορούν το ποσοστό χαρακτήρων του μηνύματος που είναι ίδιοι με αυτό το CHAR.\n",
        "<br>\n",
        "* 1 χαρακτηριστικό capital_run_length_average (συνεχής πραγματική μεταβλητή [1,...])=μέσο μήκος των συνεχόμενων ακολουθιών με κεφαλαία.\n",
        "<br>\n",
        "* 1 χαρακτηριστικό capital_run_length_total (συνεχής πραγματική μεταβλητή [1,...])= συνολικός αριθμός κεφαλαίων γραμμάτων στο μήνυμα.\n",
        "<br>\n",
        "* 1 χαρακτηριστικό spam με τιμές {0,1} = ορίζει την κλάση του δείγματος , σπαμ (1) ή μή (0)\n",
        "\n",
        "Τα χαρακτηριστικά είναι όλα αριθμητικά και διατεταγμένα."
      ]
    },
    {
      "cell_type": "code",
      "metadata": {
        "id": "h71yuLf8WHou",
        "outputId": "bde79b3f-2e80-4482-d59e-b51795c258ba",
        "colab": {
          "base_uri": "https://localhost:8080/",
          "height": 343
        }
      },
      "source": [
        "!pip install --upgrade pip #upgrade pip package installer\n",
        "!pip install scikit-learn --upgrade #upgrade scikit-learn package\n",
        "!pip install numpy --upgrade #upgrade numpy package\n",
        "!pip install pandas --upgrade #--upgrade #upgrade pandas package"
      ],
      "execution_count": null,
      "outputs": [
        {
          "output_type": "stream",
          "text": [
            "Requirement already up-to-date: pip in /usr/local/lib/python3.6/dist-packages (19.3.1)\n",
            "Collecting scikit-learn\n",
            "\u001b[?25l  Downloading https://files.pythonhosted.org/packages/2e/d0/860c4f6a7027e00acff373d9f5327f4ae3ed5872234b3cbdd7bcb52e5eff/scikit_learn-0.22-cp36-cp36m-manylinux1_x86_64.whl (7.0MB)\n",
            "\u001b[K     |████████████████████████████████| 7.0MB 2.8MB/s \n",
            "\u001b[?25hRequirement already satisfied, skipping upgrade: scipy>=0.17.0 in /usr/local/lib/python3.6/dist-packages (from scikit-learn) (1.3.3)\n",
            "Requirement already satisfied, skipping upgrade: numpy>=1.11.0 in /usr/local/lib/python3.6/dist-packages (from scikit-learn) (1.17.4)\n",
            "Requirement already satisfied, skipping upgrade: joblib>=0.11 in /usr/local/lib/python3.6/dist-packages (from scikit-learn) (0.14.1)\n",
            "Installing collected packages: scikit-learn\n",
            "  Found existing installation: scikit-learn 0.21.3\n",
            "    Uninstalling scikit-learn-0.21.3:\n",
            "      Successfully uninstalled scikit-learn-0.21.3\n",
            "Successfully installed scikit-learn-0.22\n",
            "Requirement already up-to-date: numpy in /usr/local/lib/python3.6/dist-packages (1.17.4)\n",
            "Requirement already up-to-date: pandas in /usr/local/lib/python3.6/dist-packages (0.25.3)\n",
            "Requirement already satisfied, skipping upgrade: pytz>=2017.2 in /usr/local/lib/python3.6/dist-packages (from pandas) (2018.9)\n",
            "Requirement already satisfied, skipping upgrade: numpy>=1.13.3 in /usr/local/lib/python3.6/dist-packages (from pandas) (1.17.4)\n",
            "Requirement already satisfied, skipping upgrade: python-dateutil>=2.6.1 in /usr/local/lib/python3.6/dist-packages (from pandas) (2.6.1)\n",
            "Requirement already satisfied, skipping upgrade: six>=1.5 in /usr/local/lib/python3.6/dist-packages (from python-dateutil>=2.6.1->pandas) (1.12.0)\n"
          ],
          "name": "stdout"
        }
      ]
    },
    {
      "cell_type": "code",
      "metadata": {
        "id": "vOzBXafqYohv",
        "outputId": "852230f1-ca9d-4711-b512-419da4c25e5a",
        "colab": {
          "base_uri": "https://localhost:8080/",
          "height": 272
        }
      },
      "source": [
        "import pandas as pd\n",
        "df=pd.read_csv(\"http://archive.ics.uci.edu/ml/machine-learning-databases/spambase/spambase.data\", header=None)\n",
        "print(df)\n",
        "df.shape"
      ],
      "execution_count": null,
      "outputs": [
        {
          "output_type": "stream",
          "text": [
            "        0     1     2    3     4     5   ...     52     53     54   55    56  57\n",
            "0     0.00  0.64  0.64  0.0  0.32  0.00  ...  0.000  0.000  3.756   61   278   1\n",
            "1     0.21  0.28  0.50  0.0  0.14  0.28  ...  0.180  0.048  5.114  101  1028   1\n",
            "2     0.06  0.00  0.71  0.0  1.23  0.19  ...  0.184  0.010  9.821  485  2259   1\n",
            "3     0.00  0.00  0.00  0.0  0.63  0.00  ...  0.000  0.000  3.537   40   191   1\n",
            "4     0.00  0.00  0.00  0.0  0.63  0.00  ...  0.000  0.000  3.537   40   191   1\n",
            "...    ...   ...   ...  ...   ...   ...  ...    ...    ...    ...  ...   ...  ..\n",
            "4596  0.31  0.00  0.62  0.0  0.00  0.31  ...  0.000  0.000  1.142    3    88   0\n",
            "4597  0.00  0.00  0.00  0.0  0.00  0.00  ...  0.000  0.000  1.555    4    14   0\n",
            "4598  0.30  0.00  0.30  0.0  0.00  0.00  ...  0.000  0.000  1.404    6   118   0\n",
            "4599  0.96  0.00  0.00  0.0  0.32  0.00  ...  0.000  0.000  1.147    5    78   0\n",
            "4600  0.00  0.00  0.65  0.0  0.00  0.00  ...  0.000  0.000  1.250    5    40   0\n",
            "\n",
            "[4601 rows x 58 columns]\n"
          ],
          "name": "stdout"
        },
        {
          "output_type": "execute_result",
          "data": {
            "text/plain": [
              "(4601, 58)"
            ]
          },
          "metadata": {
            "tags": []
          },
          "execution_count": 2
        }
      ]
    },
    {
      "cell_type": "markdown",
      "metadata": {
        "id": "wvNUs2wVbL_L"
      },
      "source": [
        "Βλέπουμε οτι δεν υπάρχει αρίθμηση γραμμών και επικεφαλίδες στο αρχείο. Ενώ, όπως αναφέρθηκε, υπάρχουν **ετικέτες** στην τελευταία κολόνα (58η), καθώς και 57 κολόνες χαρακτηριστικών δείγματος. <br> <br>\n",
        "Αναφέρεται επίσης ότι δεν χρειάστηκε να γίνει κάποια μετατροπή σε αυτό το text αρχείο."
      ]
    },
    {
      "cell_type": "code",
      "metadata": {
        "id": "bHmm5YwndL8X",
        "outputId": "292cc85b-352d-4cba-b162-58060ca91d98",
        "colab": {
          "base_uri": "https://localhost:8080/",
          "height": 34
        }
      },
      "source": [
        "df.isnull().values.any()"
      ],
      "execution_count": null,
      "outputs": [
        {
          "output_type": "execute_result",
          "data": {
            "text/plain": [
              "False"
            ]
          },
          "metadata": {
            "tags": []
          },
          "execution_count": 3
        }
      ]
    },
    {
      "cell_type": "markdown",
      "metadata": {
        "id": "txXzjRWLkFxY"
      },
      "source": [
        "Παρατηρούμε ότι ενώ στην περιγραφή του dataset αναφέρεται ότι υπάρχουν απουσιάζουσες τιμές, με το αποτέλεσμα του παραπάνω κώδικα γίνεται εμφανές ότι κάτι τέτοιο δεν ισχύει για το συγκεκριμένο σύνολο."
      ]
    },
    {
      "cell_type": "code",
      "metadata": {
        "id": "ob4dMfRihttC",
        "outputId": "145d817d-aa42-440d-b3b6-8df264ca2541",
        "colab": {
          "base_uri": "https://localhost:8080/",
          "height": 68
        }
      },
      "source": [
        "import numpy as np\n",
        "np_data=df.values #όλα τα χαρακτηριστικά είναι αριθμητικά άρα μετατρέπουμε απευθείας σε numpy array\n",
        "features=np_data[:, 0:-1]\n",
        "labels = np_data[:,-1].astype(int)\n",
        "frequencies = np.bincount(labels)\n",
        "print(\"class frequencies: \", frequencies)\n",
        "total_samples = frequencies.sum()\n",
        "print(\"total samples: \", total_samples)\n",
        "percentage = (frequencies / total_samples) * 100\n",
        "print(\"class percentage: \", percentage)"
      ],
      "execution_count": null,
      "outputs": [
        {
          "output_type": "stream",
          "text": [
            "class frequencies:  [2788 1813]\n",
            "total samples:  4601\n",
            "class percentage:  [60.59552271 39.40447729]\n"
          ],
          "name": "stdout"
        }
      ]
    },
    {
      "cell_type": "markdown",
      "metadata": {
        "id": "fY8mUwyOjRSc"
      },
      "source": [
        "Το dataset **δεν είναι ισορροπημένο**, αφού το 60.6% των δειγμάτων ανήκουν στην κλάση 0 (οχι σπαμ) και το 39.4% στην κλάση 1 (σπαμ)"
      ]
    },
    {
      "cell_type": "code",
      "metadata": {
        "id": "2s7uza19kIaK"
      },
      "source": [
        "from sklearn.model_selection import train_test_split\n",
        "train, test, train_labels, test_labels = train_test_split(features, labels, test_size=0.3) #30% test set"
      ],
      "execution_count": null,
      "outputs": []
    },
    {
      "cell_type": "markdown",
      "metadata": {
        "id": "8T1D7tlTmxBS"
      },
      "source": [
        "Παραπάνω έγινε ο ζητούμενος διαχωρισμός σε train και test (για 30%) sets."
      ]
    },
    {
      "cell_type": "markdown",
      "metadata": {
        "id": "cncZbPFmkaZU"
      },
      "source": [
        "##Γ. Baseline classification"
      ]
    },
    {
      "cell_type": "code",
      "metadata": {
        "id": "hngb3LdWfKVy"
      },
      "source": [
        "from sklearn.metrics import accuracy_score\n",
        "from sklearn.metrics import confusion_matrix\n",
        "from sklearn.metrics import precision_recall_fscore_support\n",
        "\n",
        "spam_accuracy = {}\n",
        "cnf_matrix={}\n",
        "fmicro={}\n",
        "fmacro={}\n",
        "def get_scores(classifier, prediction):\n",
        "  spam_accuracy[classifier] = accuracy_score(test_labels, prediction)\n",
        "  cnf_matrix[classifier] = confusion_matrix(test_labels, prediction)\n",
        "  fmicro[classifier]=precision_recall_fscore_support(test_labels, prediction, average='micro')\n",
        "  fmacro[classifier]=precision_recall_fscore_support(test_labels, prediction, average='macro')"
      ],
      "execution_count": null,
      "outputs": []
    },
    {
      "cell_type": "code",
      "metadata": {
        "id": "4UIMzbzryNOC",
        "outputId": "5e686a5d-7ab5-405e-88d5-22228a43ad31",
        "colab": {
          "base_uri": "https://localhost:8080/",
          "height": 1000
        }
      },
      "source": [
        "\n",
        "#DUMMY\n",
        "from sklearn.dummy import DummyClassifier\n",
        "\n",
        "dc_uniform = DummyClassifier(strategy=\"uniform\")\n",
        "dc_constant_0 = DummyClassifier(strategy=\"constant\", constant=0)\n",
        "dc_constant_1 = DummyClassifier(strategy=\"constant\", constant=1)\n",
        "dc_most_frequent = DummyClassifier(strategy=\"most_frequent\")\n",
        "dc_stratified = DummyClassifier(strategy=\"stratified\")\n",
        "\n",
        "model = dc_uniform.fit(train, train_labels)\n",
        "pred= dc_uniform.predict(test)\n",
        "get_scores('uniform (random)', pred)\n",
        "\n",
        "model = dc_constant_0.fit(train, train_labels)\n",
        "pred= dc_constant_0.predict(test)\n",
        "get_scores('constant 0', pred)\n",
        "\n",
        "model = dc_constant_1.fit(train, train_labels)\n",
        "pred= dc_constant_1.predict(test)\n",
        "get_scores('constant 1', pred)\n",
        "\n",
        "model = dc_most_frequent.fit(train, train_labels)\n",
        "pred=dc_most_frequent.predict(test)\n",
        "get_scores('most frequent label', pred)\n",
        "\n",
        "model = dc_stratified.fit(train, train_labels)\n",
        "pred = dc_stratified.predict(test)\n",
        "get_scores('stratified', pred)\n",
        "\n",
        "#GAUSSIAN NAIVE BAYES\n",
        "from sklearn.naive_bayes import GaussianNB\n",
        "gnb = GaussianNB()\n",
        "model = gnb.fit(train, train_labels)\n",
        "pred=gnb.predict(test)\n",
        "get_scores('gaussian naive bayes', pred)\n",
        "\n",
        "#KNN\n",
        "from sklearn.neighbors import KNeighborsClassifier\n",
        "knn = KNeighborsClassifier() #default k = 5\n",
        "knn.fit(train, train_labels)\n",
        "pred = knn.predict(test)\n",
        "get_scores('knn', pred)\n",
        "\n",
        "#MLP\n",
        "from sklearn.neural_network import MLPClassifier\n",
        "mlp = MLPClassifier(hidden_layer_sizes=1)\n",
        "mlp.fit(train, train_labels)\n",
        "pred = mlp.predict(test)\n",
        "get_scores('mlp', pred)\n",
        "\n",
        "print(\"Accuracy score:\\n\")\n",
        "for k in spam_accuracy:\n",
        "  print(k, \"\\n\", spam_accuracy[k])\n",
        "print(\"\\n\")\n",
        "print(\"Confusion matrix:\\n\")\n",
        "for k in cnf_matrix:\n",
        "  print(k, \"\\n\", cnf_matrix[k])\n",
        "print(\"\\n\")\n",
        "print(\"precision,recall,f1 micro average:\\n\")\n",
        "for k in fmicro:\n",
        "  print(k, fmicro[k])\n",
        "print(\"\\n\")\n",
        "print(\"precision,recall,f1 macro average:\\n\")\n",
        "for k in fmacro:\n",
        "  print(k, fmacro[k])\n",
        "print(\"\\n\")\n",
        ""
      ],
      "execution_count": null,
      "outputs": [
        {
          "output_type": "stream",
          "text": [
            "/usr/local/lib/python3.6/dist-packages/sklearn/metrics/_classification.py:1268: UndefinedMetricWarning: Precision and F-score are ill-defined and being set to 0.0 in labels with no predicted samples. Use `zero_division` parameter to control this behavior.\n",
            "  _warn_prf(average, modifier, msg_start, len(result))\n"
          ],
          "name": "stderr"
        },
        {
          "output_type": "stream",
          "text": [
            "Accuracy score:\n",
            "\n",
            "uniform (random) \n",
            " 0.5162925416364953\n",
            "constant 0 \n",
            " 0.5952208544532948\n",
            "constant 1 \n",
            " 0.4047791455467053\n",
            "most frequent label \n",
            " 0.5952208544532948\n",
            "stratified \n",
            " 0.5148443157132513\n",
            "gaussian naive bayes \n",
            " 0.8153511947863866\n",
            "knn \n",
            " 0.8030412744388125\n",
            "mlp \n",
            " 0.5930485155684286\n",
            "\n",
            "\n",
            "Confusion matrix:\n",
            "\n",
            "uniform (random) \n",
            " [[420 402]\n",
            " [266 293]]\n",
            "constant 0 \n",
            " [[822   0]\n",
            " [559   0]]\n",
            "constant 1 \n",
            " [[  0 822]\n",
            " [  0 559]]\n",
            "most frequent label \n",
            " [[822   0]\n",
            " [559   0]]\n",
            "stratified \n",
            " [[490 332]\n",
            " [338 221]]\n",
            "gaussian naive bayes \n",
            " [[596 226]\n",
            " [ 29 530]]\n",
            "knn \n",
            " [[693 129]\n",
            " [143 416]]\n",
            "mlp \n",
            " [[819   3]\n",
            " [559   0]]\n",
            "\n",
            "\n",
            "precision,recall,f1 micro average:\n",
            "\n",
            "uniform (random) (0.5162925416364953, 0.5162925416364953, 0.5162925416364953, None)\n",
            "constant 0 (0.5952208544532948, 0.5952208544532948, 0.5952208544532948, None)\n",
            "constant 1 (0.4047791455467053, 0.4047791455467053, 0.40477914554670524, None)\n",
            "most frequent label (0.5952208544532948, 0.5952208544532948, 0.5952208544532948, None)\n",
            "stratified (0.5148443157132513, 0.5148443157132513, 0.5148443157132513, None)\n",
            "gaussian naive bayes (0.8153511947863866, 0.8153511947863866, 0.8153511947863867, None)\n",
            "knn (0.8030412744388125, 0.8030412744388125, 0.8030412744388125, None)\n",
            "mlp (0.5930485155684286, 0.5930485155684286, 0.5930485155684286, None)\n",
            "\n",
            "\n",
            "precision,recall,f1 macro average:\n",
            "\n",
            "uniform (random) (0.5169138158860667, 0.517549586722902, 0.5121669014590975, None)\n",
            "constant 0 (0.2976104272266474, 0.5, 0.37312755333635955, None)\n",
            "constant 1 (0.20238957277335265, 0.5, 0.2881443298969072, None)\n",
            "most frequent label (0.2976104272266474, 0.5, 0.37312755333635955, None)\n",
            "stratified (0.49571288798036184, 0.4957279465851865, 0.4957107041639416, None)\n",
            "gaussian naive bayes (0.8273291005291006, 0.8365912365233363, 0.8149284871544904, None)\n",
            "knn (0.7961250603573153, 0.7936258699711425, 0.794785056205311, None)\n",
            "mlp (0.2971698113207547, 0.4981751824817518, 0.37227272727272726, None)\n",
            "\n",
            "\n"
          ],
          "name": "stdout"
        },
        {
          "output_type": "stream",
          "text": [
            "/usr/local/lib/python3.6/dist-packages/sklearn/neural_network/_multilayer_perceptron.py:571: ConvergenceWarning: Stochastic Optimizer: Maximum iterations (200) reached and the optimization hasn't converged yet.\n",
            "  % self.max_iter, ConvergenceWarning)\n"
          ],
          "name": "stderr"
        }
      ]
    },
    {
      "cell_type": "code",
      "metadata": {
        "id": "omeJ9JYQ_dhH"
      },
      "source": [
        "%matplotlib inline\n",
        "import matplotlib.pyplot as plt\n",
        "def plot_bar_chart(label_to_value, title, x_label, y_label, index): #απο https://www.programcreek.com/python/example/102292/matplotlib.pyplot.bar\n",
        "    n = len(label_to_value)\n",
        "    labels = sorted(label_to_value.keys())\n",
        "    values = [(label_to_value[label])[index] for label in labels]\n",
        "    plt.title(title)\n",
        "    plt.xlabel(x_label)\n",
        "    plt.ylabel(y_label)\n",
        "    plt.bar(range(n), values, align='center')\n",
        "    plt.xticks(range(n), labels, rotation='vertical', fontsize='7')\n",
        "    plt.gcf().subplots_adjust(bottom=0.2) # make room for x-axis labels\n",
        "    plt.show()"
      ],
      "execution_count": null,
      "outputs": []
    },
    {
      "cell_type": "code",
      "metadata": {
        "id": "iIHb_h3A_ug_",
        "outputId": "bb39aa53-7989-4a17-dd4f-806e2fa2787b",
        "colab": {
          "base_uri": "https://localhost:8080/",
          "height": 661
        }
      },
      "source": [
        "plot_bar_chart(fmicro, 'f1 scores (micro average)', 'classifier', 'f1 score', 2)\n",
        "plot_bar_chart(fmacro, 'f1 scores (macro average)', 'classifier', 'f1 score', 2)"
      ],
      "execution_count": null,
      "outputs": [
        {
          "output_type": "display_data",
          "data": {
            "image/png": "[encoded data removed]",
            "text/plain": [
              "<Figure size 432x288 with 1 Axes>"
            ]
          },
          "metadata": {
            "tags": []
          }
        },
        {
          "output_type": "display_data",
          "data": {
            "image/png": "[encoded data removed]",
            "text/plain": [
              "<Figure size 432x288 with 1 Axes>"
            ]
          },
          "metadata": {
            "tags": []
          }
        }
      ]
    },
    {
      "cell_type": "markdown",
      "metadata": {
        "id": "FAbg2zko1ZpS"
      },
      "source": [
        "Βλέπουμε πως ακόμα και με default παραμέτρους ο ταξινομητής mlp έχει συχνά -όχι όμως πάντα- (ακόμα και μόνο με ένα κρυμμένο επίπεδο) την καλύτερη απόδοση με βάση και τις δύο μετρικές f1. Επίσης υψηλές τιμές μετρικών έχουν πάντα ο gnb και έπειτα ο knn.\n",
        "Οι dummy ταξινομητές δεν μπορούν να ανταγωνιστούν στην απόδοση τους τους knn και gnb, κάτι που περιμέναμε σε αυτό το μεγάλου μεγέθους dataset.\n",
        "\n"
      ]
    },
    {
      "cell_type": "markdown",
      "metadata": {
        "id": "mbWnuFur7MEI"
      },
      "source": [
        "##Δ. Βελτιστοποίηση ταξινομητών"
      ]
    },
    {
      "cell_type": "markdown",
      "metadata": {
        "id": "c_FanZ2S7hZz"
      },
      "source": [
        "###knn,gnb optimization (&dummy)"
      ]
    },
    {
      "cell_type": "markdown",
      "metadata": {
        "id": "Qw6rbMmh82RM"
      },
      "source": [
        "Διαδοχικά search spaces, και βέλτιστες τιμές υπερπαραμέτρων:\n",
        "\n",
        "\n",
        "*   vthreshold = [0, 600, 1200],n_components = [13],k = [1, 5, 11, 21, 31, 41]\n",
        "    *   gnb: vthres=0, f1 micro=0.81 , accuracy=0.81\n",
        "    *   knn: vthres=0, k=11, f1micro=0.91, accuracy=0.91\n",
        "\n",
        "\n",
        "*   vthreshold=[0], n_components=range(2,13) , k=range(1,50) peritta\n",
        "\n",
        "    *  gnb: pca=3, f1 micro=0.87\n",
        "  *   knn: pca=12, k=19, f1 micro=0.92\n",
        "\n",
        "\n",
        "\n",
        "\n",
        "\n",
        "\n",
        "\n",
        "\n",
        "\n",
        "\n",
        "\n"
      ]
    },
    {
      "cell_type": "markdown",
      "metadata": {
        "id": "cWpjGoGKTEDy"
      },
      "source": [
        "Αρχικοποιούμε τους μετασχηματιστές για την προεπεξεργασία και τους ταξινομητές dummy, knn, και gnb.\n",
        "Δημιουργούμε pipelines (και για τον mlp) και ορίζουμε τιμές των παραμέτρων για βελτιστοποίηση."
      ]
    },
    {
      "cell_type": "code",
      "metadata": {
        "id": "9liELsWouzgm",
        "outputId": "16139cd1-7a5f-4684-fc82-158bbb16a8a6",
        "colab": {
          "base_uri": "https://localhost:8080/",
          "height": 102
        }
      },
      "source": [
        "!pip install --upgrade imbalanced-learn\n",
        "from imblearn.pipeline import Pipeline\n",
        "from sklearn.metrics import classification_report\n",
        "from sklearn.neighbors import KNeighborsClassifier\n",
        "from sklearn.dummy import DummyClassifier\n",
        "from sklearn.naive_bayes import GaussianNB\n",
        "from sklearn.neural_network import MLPClassifier\n",
        "\n",
        "# φέρνουμε τις γνωστές μας κλάσεις για preprocessing\n",
        "from sklearn.feature_selection import VarianceThreshold\n",
        "from sklearn.preprocessing import StandardScaler # ή minmax scaler που πάει πριν την επιλογή χαρακτηριστικών\n",
        "from imblearn.over_sampling import RandomOverSampler #ή undersampling\n",
        "from sklearn.decomposition import PCA\n",
        "\n",
        "# αρχικοποιούμε τους εκτιμητές (μετασχηματιστές και ταξινομητή) χωρίς παραμέτρους\n",
        "selector = VarianceThreshold()\n",
        "scaler = StandardScaler()\n",
        "ros = RandomOverSampler()\n",
        "pca = PCA()\n",
        "\n",
        "#Αρχικοποιούμε τους ταξινομητές\n",
        "dc_uniform = DummyClassifier(strategy=\"uniform\")\n",
        "dc_constant_0 = DummyClassifier(strategy=\"constant\", constant=0)\n",
        "dc_constant_1 = DummyClassifier(strategy=\"constant\", constant=1)\n",
        "dc_most_frequent = DummyClassifier(strategy=\"most_frequent\")\n",
        "dc_stratified = DummyClassifier(strategy=\"stratified\")\n",
        "gnb = GaussianNB()\n",
        "knn = KNeighborsClassifier(n_jobs=-1) # η παράμετρος n_jobs = 1 χρησιμοποιεί όλους τους πυρήνες του υπολογιστή\n",
        "clf = MLPClassifier(hidden_layer_sizes=1)\n",
        "\n",
        "#ορίζουμε pipelines\n",
        "Pipelines = {}\n",
        "Pipelines['dc_uniform'] = Pipeline([('selector',selector), ('scaler', scaler), ('sampler', ros), ('pca', pca), ('dc_uniform',dc_uniform)])\n",
        "Pipelines['dc_constant_0'] = Pipeline([('selector',selector), ('scaler', scaler), ('sampler', ros), ('pca', pca), ('dc_constant_0',dc_constant_0)])\n",
        "Pipelines['dc_constant_1'] = Pipeline([('selector',selector), ('scaler', scaler), ('sampler', ros), ('pca', pca), ('dc_constant_1',dc_constant_1)])\n",
        "Pipelines['dc_most_frequent'] = Pipeline([('selector',selector), ('scaler', scaler), ('sampler', ros), ('pca', pca), ('dc_most_frequent',dc_most_frequent)])\n",
        "Pipelines['dc_stratified'] = Pipeline([('selector',selector), ('scaler', scaler), ('sampler', ros), ('pca', pca), ('dc_stratified',dc_stratified)])\n",
        "Pipelines['naive_bayes'] = Pipeline([('selector',selector), ('scaler', scaler), ('sampler', ros), ('pca', pca), ('naive_bayes',gnb)])\n",
        "Pipelines['knn'] = Pipeline([('selector',selector), ('scaler', scaler), ('sampler', ros), ('pca', pca), ('knn',knn)])\n",
        "Pipelines['mlp'] = Pipeline(steps=[('selector',selector), ('scaler', scaler), ('sampler', ros), ('pca', pca),('mlp', clf)], memory='mlp')\n",
        "\n",
        "#Δήλωση των παραμέτρων και των διαστημάτων στα οποία αυτές ανήκουν\n",
        "#Τσεκάρουμε το variance των μεταβλητών\n",
        "#train_variance = train.var(axis=0)\n",
        "#print(train_variance)\n",
        "#print(np.max(train_variance))\n",
        "\n",
        "#Παράμετρος του selector\n",
        "vthreshold = [0]\n",
        "\n",
        "#Παράμετρος PCA\n",
        "n_components = list(range(2,13))\n",
        "\n",
        "#Παράμετροι του knn\n",
        "myList=list(range(1,50))\n",
        "k = list(filter(lambda x: x % 2!=0, myList)) # η υπερπαράμετρος του ταξινομητή\n",
        "weight_options=['uniform', 'distance']\n",
        "metric_options=['euclidean','manhattan','chebyshev','minkowski','wminkowski','seuclidean','mahalanobis']\n",
        "\n",
        "\n",
        "#scores\n",
        "f_scores = ['f1_micro', 'f1_macro']\n"
      ],
      "execution_count": null,
      "outputs": [
        {
          "output_type": "stream",
          "text": [
            "Requirement already up-to-date: imbalanced-learn in /usr/local/lib/python3.6/dist-packages (0.6.1)\n",
            "Requirement already satisfied, skipping upgrade: scipy>=0.17 in /usr/local/lib/python3.6/dist-packages (from imbalanced-learn) (1.3.3)\n",
            "Requirement already satisfied, skipping upgrade: joblib>=0.11 in /usr/local/lib/python3.6/dist-packages (from imbalanced-learn) (0.14.1)\n",
            "Requirement already satisfied, skipping upgrade: scikit-learn>=0.22 in /usr/local/lib/python3.6/dist-packages (from imbalanced-learn) (0.22)\n",
            "Requirement already satisfied, skipping upgrade: numpy>=1.11 in /usr/local/lib/python3.6/dist-packages (from imbalanced-learn) (1.17.4)\n"
          ],
          "name": "stdout"
        }
      ]
    },
    {
      "cell_type": "code",
      "metadata": {
        "id": "SNBi-uUgBtwO"
      },
      "source": [
        "#παράμετροι mlp\n",
        "import numpy as np\n",
        "activation_options=['identity', 'logistics', 'tanh', 'relu']\n",
        "solver_options=['lbfgs', 'sgd', 'adam']\n",
        "max_iter_options=list(range(230,350,20))\n",
        "learning_rate_options=['constant', 'invscaling', 'adaptive']\n",
        "alpha_options=list(np.arange(0.0001,0.0003, 0.00003))"
      ],
      "execution_count": null,
      "outputs": []
    },
    {
      "cell_type": "markdown",
      "metadata": {
        "id": "oAjI8mg6V7MU"
      },
      "source": [
        "Ορίζουμε το Gridsearch για κάθε ταξινομητή."
      ]
    },
    {
      "cell_type": "code",
      "metadata": {
        "id": "EFCi2NIj8GgO"
      },
      "source": [
        "from sklearn.model_selection import GridSearchCV\n",
        "cv_num=5\n",
        "estimators = {}\n",
        "\n",
        "# Βρόχος βελτιστοποίησης των ταξινομητών\n",
        "for fscore in f_scores:\n",
        "    estimators['uniform (random)'] = GridSearchCV(Pipelines['dc_uniform'], dict(selector__threshold=vthreshold, pca__n_components=n_components),\n",
        "                                        cv=cv_num, scoring=fscore, refit=fscore, n_jobs=-1)\n",
        "\n",
        "    estimators['constant 0'] = GridSearchCV(Pipelines['dc_constant_0'], dict(selector__threshold=vthreshold, pca__n_components=n_components),\n",
        "                                        cv=cv_num, scoring=fscore, refit=fscore, n_jobs=-1)\n",
        "\n",
        "    estimators['constant 1'] = GridSearchCV(Pipelines['dc_constant_1'], dict(selector__threshold=vthreshold, pca__n_components=n_components),\n",
        "                                        cv=cv_num, scoring=fscore, refit=fscore, n_jobs=-1)\n",
        "\n",
        "    estimators['most frequent label'] = GridSearchCV(Pipelines['dc_most_frequent'], dict(selector__threshold=vthreshold, pca__n_components=n_components),\n",
        "                                        cv=cv_num, scoring=fscore, refit=fscore, n_jobs=-1)\n",
        "\n",
        "    estimators['stratified'] = GridSearchCV(Pipelines['dc_stratified'], dict(selector__threshold=vthreshold, pca__n_components=n_components),\n",
        "                                        cv=cv_num, scoring=fscore, refit=fscore, n_jobs=-1)\n",
        "\n",
        "    estimators['gaussian naive bayes'] = GridSearchCV(Pipelines['naive_bayes'], dict(selector__threshold=vthreshold, pca__n_components=n_components),\n",
        "                                        cv=cv_num, scoring=fscore, refit=fscore, n_jobs=-1)\n",
        "\n",
        "    estimators['knn'] = GridSearchCV(Pipelines['knn'], dict(selector__threshold=vthreshold, pca__n_components=n_components, knn__n_neighbors=k, knn__weights=weight_options,\n",
        "                                        knn__metric=metric_options),cv=cv_num, scoring=fscore, refit=fscore, n_jobs=-1)\n",
        "\n",
        "    estimators['mlp'] = GridSearchCV(Pipelines['mlp'], dict(selector__threshold=vthreshold, pca__n_components=n_components, mlp__activation=activation_options, mlp__solver=solver_options, mlp__max_iter=max_iter_options, mlp__learning_rate=learning_rate_options, mlp__alpha=alpha_options), cv=5, scoring=fscore, n_jobs=-1)\n"
      ],
      "execution_count": null,
      "outputs": []
    },
    {
      "cell_type": "markdown",
      "metadata": {
        "id": "q5rgZuVqZQX5"
      },
      "source": [
        "Για κάθε estimator (εκτός από mlp):\n",
        "\n",
        "*   Γίνεται εκτίμηση του χρόνου για το τελικό fit & predict\n",
        "*   Υπολογίζονται (και στη συνέχεια εκτυπώνονται) confusion matrix, f1-micro average και f1-macro average"
      ]
    },
    {
      "cell_type": "code",
      "metadata": {
        "id": "QtQunsqfYz4D"
      },
      "source": [
        "# Εκπαίδευση των ταξινομητών στο data_set (όλοι εκτός από τον mlp)\n",
        "import time\n",
        "preds={}"
      ],
      "execution_count": null,
      "outputs": []
    },
    {
      "cell_type": "code",
      "metadata": {
        "id": "9GYWeQJg8ufz",
        "outputId": "87993119-4f38-4f0a-b9f3-3a86e0f0b3e5",
        "colab": {
          "base_uri": "https://localhost:8080/",
          "height": 1000
        }
      },
      "source": [
        "for est in estimators:\n",
        "  if est=='mlp':\n",
        "    continue\n",
        "  else:\n",
        "    start = time.time()\n",
        "    print (est)\n",
        "    estimators[est].fit(train, train_labels)\n",
        "    end = time.time()\n",
        "    print (\"Fit took %s seconds\" % (end-start))\n",
        "    start= time.time()\n",
        "    preds[est]=estimators[est].predict(test)\n",
        "    end=time.time()\n",
        "    print(\"Predict took %s seconds\" % (end-start))\n",
        "    get_scores(est,preds[est])\n",
        "    print(estimators[est].best_estimator_)\n",
        "    print(estimators[est].best_params_)\n",
        "    print(\"Accuracy score:\\n\")\n",
        "    print(est, \"\\n\", spam_accuracy[est])\n",
        "    print(\"Confusion matrix:\\n\")\n",
        "    print(est, \"\\n\", cnf_matrix[est])\n",
        "    print(\"\\n\")\n",
        "    print(\"precision,recall,f1 micro average:\\n\")\n",
        "    print(est, fmicro[est])\n",
        "    print(\"\\n\")\n",
        "    print(\"precision,recall,f1 macro average:\\n\")\n",
        "    print(est, fmacro[est])\n",
        "    print(\"\\n\")\n",
        "\n",
        ""
      ],
      "execution_count": null,
      "outputs": [
        {
          "output_type": "stream",
          "text": [
            "uniform (random)\n",
            "Fit took 1.1486480236053467 seconds\n",
            "Predict took 0.002315521240234375 seconds\n",
            "Pipeline(memory=None,\n",
            "         steps=[('selector', VarianceThreshold(threshold=0)),\n",
            "                ('scaler',\n",
            "                 StandardScaler(copy=True, with_mean=True, with_std=True)),\n",
            "                ('sampler',\n",
            "                 RandomOverSampler(random_state=None,\n",
            "                                   sampling_strategy='auto')),\n",
            "                ('pca',\n",
            "                 PCA(copy=True, iterated_power='auto', n_components=10,\n",
            "                     random_state=None, svd_solver='auto', tol=0.0,\n",
            "                     whiten=False)),\n",
            "                ('dc_uniform',\n",
            "                 DummyClassifier(constant=None, random_state=None,\n",
            "                                 strategy='uniform'))],\n",
            "         verbose=False)\n",
            "{'pca__n_components': 10, 'selector__threshold': 0}\n",
            "Accuracy score:\n",
            "\n",
            "uniform (random) \n",
            " 0.49312092686459086\n",
            "Confusion matrix:\n",
            "\n",
            "uniform (random) \n",
            " [[387 435]\n",
            " [265 294]]\n",
            "\n",
            "\n",
            "precision,recall,f1 micro average:\n",
            "\n",
            "uniform (random) (0.49312092686459086, 0.49312092686459086, 0.49312092686459086, None)\n",
            "\n",
            "\n",
            "precision,recall,f1 macro average:\n",
            "\n",
            "uniform (random) (0.4984252316392739, 0.49837104840499846, 0.4908117515190844, None)\n",
            "\n",
            "\n",
            "constant 0\n",
            "Fit took 1.195209264755249 seconds\n",
            "Predict took 0.01361703872680664 seconds\n",
            "Pipeline(memory=None,\n",
            "         steps=[('selector', VarianceThreshold(threshold=0)),\n",
            "                ('scaler',\n",
            "                 StandardScaler(copy=True, with_mean=True, with_std=True)),\n",
            "                ('sampler',\n",
            "                 RandomOverSampler(random_state=None,\n",
            "                                   sampling_strategy='auto')),\n",
            "                ('pca',\n",
            "                 PCA(copy=True, iterated_power='auto', n_components=2,\n",
            "                     random_state=None, svd_solver='auto', tol=0.0,\n",
            "                     whiten=False)),\n",
            "                ('dc_constant_0',\n",
            "                 DummyClassifier(constant=0, random_state=None,\n",
            "                                 strategy='constant'))],\n",
            "         verbose=False)\n",
            "{'pca__n_components': 2, 'selector__threshold': 0}\n",
            "Accuracy score:\n",
            "\n",
            "constant 0 \n",
            " 0.5952208544532948\n",
            "Confusion matrix:\n",
            "\n",
            "constant 0 \n",
            " [[822   0]\n",
            " [559   0]]\n",
            "\n",
            "\n",
            "precision,recall,f1 micro average:\n",
            "\n",
            "constant 0 (0.5952208544532948, 0.5952208544532948, 0.5952208544532948, None)\n",
            "\n",
            "\n",
            "precision,recall,f1 macro average:\n",
            "\n",
            "constant 0 (0.2976104272266474, 0.5, 0.37312755333635955, None)\n",
            "\n",
            "\n",
            "constant 1\n"
          ],
          "name": "stdout"
        },
        {
          "output_type": "stream",
          "text": [
            "/usr/local/lib/python3.6/dist-packages/sklearn/metrics/_classification.py:1268: UndefinedMetricWarning: Precision and F-score are ill-defined and being set to 0.0 in labels with no predicted samples. Use `zero_division` parameter to control this behavior.\n",
            "  _warn_prf(average, modifier, msg_start, len(result))\n"
          ],
          "name": "stderr"
        },
        {
          "output_type": "stream",
          "text": [
            "Fit took 1.1753582954406738 seconds\n",
            "Predict took 0.0020248889923095703 seconds\n",
            "Pipeline(memory=None,\n",
            "         steps=[('selector', VarianceThreshold(threshold=0)),\n",
            "                ('scaler',\n",
            "                 StandardScaler(copy=True, with_mean=True, with_std=True)),\n",
            "                ('sampler',\n",
            "                 RandomOverSampler(random_state=None,\n",
            "                                   sampling_strategy='auto')),\n",
            "                ('pca',\n",
            "                 PCA(copy=True, iterated_power='auto', n_components=2,\n",
            "                     random_state=None, svd_solver='auto', tol=0.0,\n",
            "                     whiten=False)),\n",
            "                ('dc_constant_1',\n",
            "                 DummyClassifier(constant=1, random_state=None,\n",
            "                                 strategy='constant'))],\n",
            "         verbose=False)\n",
            "{'pca__n_components': 2, 'selector__threshold': 0}\n",
            "Accuracy score:\n",
            "\n",
            "constant 1 \n",
            " 0.4047791455467053\n",
            "Confusion matrix:\n",
            "\n",
            "constant 1 \n",
            " [[  0 822]\n",
            " [  0 559]]\n",
            "\n",
            "\n",
            "precision,recall,f1 micro average:\n",
            "\n",
            "constant 1 (0.4047791455467053, 0.4047791455467053, 0.40477914554670524, None)\n",
            "\n",
            "\n",
            "precision,recall,f1 macro average:\n",
            "\n",
            "constant 1 (0.20238957277335265, 0.5, 0.2881443298969072, None)\n",
            "\n",
            "\n",
            "most frequent label\n"
          ],
          "name": "stdout"
        },
        {
          "output_type": "stream",
          "text": [
            "/usr/local/lib/python3.6/dist-packages/sklearn/metrics/_classification.py:1268: UndefinedMetricWarning: Precision and F-score are ill-defined and being set to 0.0 in labels with no predicted samples. Use `zero_division` parameter to control this behavior.\n",
            "  _warn_prf(average, modifier, msg_start, len(result))\n"
          ],
          "name": "stderr"
        },
        {
          "output_type": "stream",
          "text": [
            "Fit took 1.1873886585235596 seconds\n",
            "Predict took 0.0021200180053710938 seconds\n",
            "Pipeline(memory=None,\n",
            "         steps=[('selector', VarianceThreshold(threshold=0)),\n",
            "                ('scaler',\n",
            "                 StandardScaler(copy=True, with_mean=True, with_std=True)),\n",
            "                ('sampler',\n",
            "                 RandomOverSampler(random_state=None,\n",
            "                                   sampling_strategy='auto')),\n",
            "                ('pca',\n",
            "                 PCA(copy=True, iterated_power='auto', n_components=2,\n",
            "                     random_state=None, svd_solver='auto', tol=0.0,\n",
            "                     whiten=False)),\n",
            "                ('dc_most_frequent',\n",
            "                 DummyClassifier(constant=None, random_state=None,\n",
            "                                 strategy='most_frequent'))],\n",
            "         verbose=False)\n",
            "{'pca__n_components': 2, 'selector__threshold': 0}\n",
            "Accuracy score:\n",
            "\n",
            "most frequent label \n",
            " 0.5952208544532948\n",
            "Confusion matrix:\n",
            "\n",
            "most frequent label \n",
            " [[822   0]\n",
            " [559   0]]\n",
            "\n",
            "\n",
            "precision,recall,f1 micro average:\n",
            "\n",
            "most frequent label (0.5952208544532948, 0.5952208544532948, 0.5952208544532948, None)\n",
            "\n",
            "\n",
            "precision,recall,f1 macro average:\n",
            "\n",
            "most frequent label (0.2976104272266474, 0.5, 0.37312755333635955, None)\n",
            "\n",
            "\n",
            "stratified\n"
          ],
          "name": "stdout"
        },
        {
          "output_type": "stream",
          "text": [
            "/usr/local/lib/python3.6/dist-packages/sklearn/metrics/_classification.py:1268: UndefinedMetricWarning: Precision and F-score are ill-defined and being set to 0.0 in labels with no predicted samples. Use `zero_division` parameter to control this behavior.\n",
            "  _warn_prf(average, modifier, msg_start, len(result))\n"
          ],
          "name": "stderr"
        },
        {
          "output_type": "stream",
          "text": [
            "Fit took 1.202533483505249 seconds\n",
            "Predict took 0.00713038444519043 seconds\n",
            "Pipeline(memory=None,\n",
            "         steps=[('selector', VarianceThreshold(threshold=0)),\n",
            "                ('scaler',\n",
            "                 StandardScaler(copy=True, with_mean=True, with_std=True)),\n",
            "                ('sampler',\n",
            "                 RandomOverSampler(random_state=None,\n",
            "                                   sampling_strategy='auto')),\n",
            "                ('pca',\n",
            "                 PCA(copy=True, iterated_power='auto', n_components=12,\n",
            "                     random_state=None, svd_solver='auto', tol=0.0,\n",
            "                     whiten=False)),\n",
            "                ('dc_stratified',\n",
            "                 DummyClassifier(constant=None, random_state=None,\n",
            "                                 strategy='stratified'))],\n",
            "         verbose=False)\n",
            "{'pca__n_components': 12, 'selector__threshold': 0}\n",
            "Accuracy score:\n",
            "\n",
            "stratified \n",
            " 0.4887762490948588\n",
            "Confusion matrix:\n",
            "\n",
            "stratified \n",
            " [[391 431]\n",
            " [275 284]]\n",
            "\n",
            "\n",
            "precision,recall,f1 micro average:\n",
            "\n",
            "stratified (0.4887762490948588, 0.4887762490948588, 0.4887762490948588, None)\n",
            "\n",
            "\n",
            "precision,recall,f1 macro average:\n",
            "\n",
            "stratified (0.4921449421449422, 0.49185959460106465, 0.4856887544099526, None)\n",
            "\n",
            "\n",
            "gaussian naive bayes\n",
            "Fit took 1.2309749126434326 seconds\n",
            "Predict took 0.0026297569274902344 seconds\n",
            "Pipeline(memory=None,\n",
            "         steps=[('selector', VarianceThreshold(threshold=0)),\n",
            "                ('scaler',\n",
            "                 StandardScaler(copy=True, with_mean=True, with_std=True)),\n",
            "                ('sampler',\n",
            "                 RandomOverSampler(random_state=None,\n",
            "                                   sampling_strategy='auto')),\n",
            "                ('pca',\n",
            "                 PCA(copy=True, iterated_power='auto', n_components=3,\n",
            "                     random_state=None, svd_solver='auto', tol=0.0,\n",
            "                     whiten=False)),\n",
            "                ('naive_bayes', GaussianNB(priors=None, var_smoothing=1e-09))],\n",
            "         verbose=False)\n",
            "{'pca__n_components': 3, 'selector__threshold': 0}\n",
            "Accuracy score:\n",
            "\n",
            "gaussian naive bayes \n",
            " 0.8682114409847936\n",
            "Confusion matrix:\n",
            "\n",
            "gaussian naive bayes \n",
            " [[720 102]\n",
            " [ 80 479]]\n",
            "\n",
            "\n",
            "precision,recall,f1 micro average:\n",
            "\n",
            "gaussian naive bayes (0.8682114409847936, 0.8682114409847936, 0.8682114409847936, None)\n",
            "\n",
            "\n",
            "precision,recall,f1 macro average:\n",
            "\n",
            "gaussian naive bayes (0.8622203098106713, 0.866399853753444, 0.8640718627641855, None)\n",
            "\n",
            "\n",
            "knn\n",
            "Fit took 937.7525894641876 seconds\n",
            "Predict took 0.2166609764099121 seconds\n",
            "Pipeline(memory=None,\n",
            "         steps=[('selector', VarianceThreshold(threshold=0)),\n",
            "                ('scaler',\n",
            "                 StandardScaler(copy=True, with_mean=True, with_std=True)),\n",
            "                ('sampler',\n",
            "                 RandomOverSampler(random_state=None,\n",
            "                                   sampling_strategy='auto')),\n",
            "                ('pca',\n",
            "                 PCA(copy=True, iterated_power='auto', n_components=12,\n",
            "                     random_state=None, svd_solver='auto', tol=0.0,\n",
            "                     whiten=False)),\n",
            "                ('knn',\n",
            "                 KNeighborsClassifier(algorithm='auto', leaf_size=30,\n",
            "                                      metric='minkowski', metric_params=None,\n",
            "                                      n_jobs=-1, n_neighbors=19, p=2,\n",
            "                                      weights='distance'))],\n",
            "         verbose=False)\n",
            "{'knn__metric': 'minkowski', 'knn__n_neighbors': 19, 'knn__weights': 'distance', 'pca__n_components': 12, 'selector__threshold': 0}\n",
            "Accuracy score:\n",
            "\n",
            "knn \n",
            " 0.9203475742215785\n",
            "Confusion matrix:\n",
            "\n",
            "knn \n",
            " [[758  64]\n",
            " [ 46 513]]\n",
            "\n",
            "\n",
            "precision,recall,f1 micro average:\n",
            "\n",
            "knn (0.9203475742215785, 0.9203475742215785, 0.9203475742215785, None)\n",
            "\n",
            "\n",
            "precision,recall,f1 macro average:\n",
            "\n",
            "knn (0.9159337627288169, 0.9199256580006877, 0.9177591687888709, None)\n",
            "\n",
            "\n"
          ],
          "name": "stdout"
        }
      ]
    },
    {
      "cell_type": "markdown",
      "metadata": {
        "id": "edz8TmDjskrU"
      },
      "source": [
        "Επειδή το mlp έχει περισσότερες παραμέτρους απαιτεί περισσότερο χρόνο, άρα το εξετάζουμε μόνο του."
      ]
    },
    {
      "cell_type": "markdown",
      "metadata": {
        "id": "nR3mn8K7JOT_"
      },
      "source": [
        "###mlp optimization"
      ]
    },
    {
      "cell_type": "markdown",
      "metadata": {
        "id": "pDhCzkxlBqHr"
      },
      "source": [
        "Για τον mlp:\n",
        "\n",
        "*   Γίνεται εκτίμηση του χρόνου για το τελικό fit & predict\n",
        "*   Υπολογίζονται (και στη συνέχεια εκτυπώνονται) confusion matrix, f1-micro average και f1-macro average\n",
        "Note: Τα bar plots που έχουν τυπωθεί έχουν τιμές από μη βελτιστοποιημένους και βελτιστοποιημένους ταξινομητές, δεν τα εξετάζουμε [δεν τα σβήνουμε επίσης καθώς το fit απαιτεί 8,5 ώρες] . Τα bar plots που μας ενδιαφέρουν φαίνονται παρακάτω"
      ]
    },
    {
      "cell_type": "code",
      "metadata": {
        "id": "jSQSBwWib8r5",
        "outputId": "54694434-4e05-45e1-8793-771692991f67",
        "colab": {
          "base_uri": "https://localhost:8080/",
          "height": 1000
        }
      },
      "source": [
        "import time\n",
        "est='mlp'\n",
        "start = time.time()\n",
        "print (est)\n",
        "estimators[est].fit(train, train_labels)\n",
        "end = time.time()\n",
        "print (\"Fit took %s seconds\" % (end-start))\n",
        "start= time.time()\n",
        "preds[est]=estimators[est].predict(test)\n",
        "end=time.time()\n",
        "print(\"Predict took %s seconds\" % (end-start))\n",
        "get_scores(est,preds[est])\n",
        "print(estimators[est].best_estimator_)\n",
        "print(estimators[est].best_params_)\n",
        "print(\"Accuracy score:\\n\")\n",
        "print(est, \"\\n\", spam_accuracy[est])\n",
        "print(\"Confusion matrix:\\n\")\n",
        "print(est, \"\\n\", cnf_matrix[est])\n",
        "print(\"\\n\")\n",
        "print(\"precision,recall,f1 micro average:\\n\")\n",
        "print(est, fmicro[est])\n",
        "print(\"\\n\")\n",
        "print(\"precision,recall,f1 macro average:\\n\")\n",
        "print(est, fmacro[est])\n",
        "print(\"\\n\")"
      ],
      "execution_count": null,
      "outputs": [
        {
          "output_type": "stream",
          "text": [
            "mlp\n",
            "Fit took 31022.483772277832 seconds\n",
            "Predict took 0.0029265880584716797 seconds\n",
            "Pipeline(memory='mlp',\n",
            "         steps=[('selector', VarianceThreshold(threshold=0)),\n",
            "                ('scaler',\n",
            "                 StandardScaler(copy=True, with_mean=True, with_std=True)),\n",
            "                ('sampler',\n",
            "                 RandomOverSampler(random_state=None,\n",
            "                                   sampling_strategy='auto')),\n",
            "                ('pca',\n",
            "                 PCA(copy=True, iterated_power='auto', n_components=11,\n",
            "                     random_state=None, svd_solver='auto', tol=0.0,\n",
            "                     whiten=False)),\n",
            "                ('mlp',\n",
            "                 MLPClassifie...\n",
            "                               batch_size='auto', beta_1=0.9, beta_2=0.999,\n",
            "                               early_stopping=False, epsilon=1e-08,\n",
            "                               hidden_layer_sizes=1, learning_rate='adaptive',\n",
            "                               learning_rate_init=0.001, max_fun=15000,\n",
            "                               max_iter=330, momentum=0.9, n_iter_no_change=10,\n",
            "                               nesterovs_momentum=True, power_t=0.5,\n",
            "                               random_state=None, shuffle=True, solver='lbfgs',\n",
            "                               tol=0.0001, validation_fraction=0.1,\n",
            "                               verbose=False, warm_start=False))],\n",
            "         verbose=False)\n",
            "{'mlp__activation': 'tanh', 'mlp__alpha': 0.00016000000000000004, 'mlp__learning_rate': 'adaptive', 'mlp__max_iter': 330, 'mlp__solver': 'lbfgs', 'pca__n_components': 11, 'selector__threshold': 0}\n",
            "Accuracy score:\n",
            "\n",
            "mlp \n",
            " 0.8957277335264301\n",
            "Confusion matrix:\n",
            "\n",
            "mlp \n",
            " [[754  80]\n",
            " [ 64 483]]\n",
            "\n",
            "\n",
            "precision,recall,f1 micro average:\n",
            "\n",
            "mlp (0.8957277335264301, 0.8957277335264301, 0.8957277335264301, None)\n",
            "\n",
            "\n",
            "precision,recall,f1 macro average:\n",
            "\n",
            "mlp (0.8898322382277963, 0.893537455227774, 0.8915516000261763, None)\n",
            "\n",
            "\n"
          ],
          "name": "stdout"
        },
        {
          "output_type": "display_data",
          "data": {
            "image/png": "[encoded data removed]",
            "text/plain": [
              "<Figure size 432x288 with 1 Axes>"
            ]
          },
          "metadata": {
            "tags": []
          }
        },
        {
          "output_type": "display_data",
          "data": {
            "image/png": "[encoded data removed]",
            "text/plain": [
              "<Figure size 432x288 with 1 Axes>"
            ]
          },
          "metadata": {
            "tags": []
          }
        }
      ]
    },
    {
      "cell_type": "markdown",
      "metadata": {
        "id": "lcW8m5KTHg5E"
      },
      "source": [
        "###Πίνακας με χρόνους εκτέλεσης (σε sec)"
      ]
    },
    {
      "cell_type": "code",
      "metadata": {
        "id": "GbBC0udILTJZ",
        "outputId": "05df0e29-4e1a-45af-f778-25310cc8069c",
        "colab": {
          "base_uri": "https://localhost:8080/",
          "height": 170
        }
      },
      "source": [
        "data = {'Fit':[1.195209, 1.175358, 1.230974,  937.7526, 31022.48, 1.187389, 1.202533, 1.148648], 'Predict':[0.013617, 0.002025, 0.002629, 0.216660, 0.002927, 0.002120, 0.007130, 0.002316]}\n",
        "df = pd.DataFrame(data, index =['constant 0', 'constant 1', 'gaussian naive bayes', 'knn', 'mlp', 'most frequent label', 'stratified', 'uniform'])\n",
        "print(df)"
      ],
      "execution_count": null,
      "outputs": [
        {
          "output_type": "stream",
          "text": [
            "                               Fit   Predict\n",
            "constant 0                1.195209  0.013617\n",
            "constant 1                1.175358  0.002025\n",
            "gaussian naive bayes      1.230974  0.002629\n",
            "knn                     937.752600  0.216660\n",
            "mlp                   31022.480000  0.002927\n",
            "most frequent label       1.187389  0.002120\n",
            "stratified                1.202533  0.007130\n",
            "uniform                   1.148648  0.002316\n"
          ],
          "name": "stdout"
        }
      ]
    },
    {
      "cell_type": "markdown",
      "metadata": {
        "id": "iFzt3XDWOpMx"
      },
      "source": [
        "Φυσικά το fit του GridSearchCV απαιτεί σημαντικά περισσότερο χρόνο από το predict, καθώς πραγματοποιείται **fit** για όλους τους συνδυασμούς υπερπαραμέτρων . Όσο περισσότερες παραμέτρους έχουμε (άρα μεγαλύτερο grid), τόσο περισσότερος χρόνος απαιτείται. </br>\n",
        "Είναι λοιπόν λογικό να αργεί περισσότερο ο mlp και έπειτα o knn , που εκτός από τις παραμέτρους για την προεπεξεργασία έχουν και δικές τους παραμέτρους για βελτιστοποίηση.\n",
        "</br> **Predict** γίνεται στο test set με τον estimator με τις καλύτερες παραμέτρους όπως υπολογίστηκαν στο fit, επομένως γίνεται σε λιγότερο από 1 sec."
      ]
    },
    {
      "cell_type": "markdown",
      "metadata": {
        "id": "r3LB1CQzpdzX"
      },
      "source": [
        "###Bar plot σύγκρισης με τις τιμές του κάθε f1 για όλους τους βελτιστοποιημένους classifiers."
      ]
    },
    {
      "cell_type": "code",
      "metadata": {
        "id": "XFsPybHapkso",
        "outputId": "41bc92f6-c081-475e-f5c3-bd11ccc668d4",
        "colab": {
          "base_uri": "https://localhost:8080/",
          "height": 661
        }
      },
      "source": [
        "plot_bar_chart(fmicro, 'f1 scores (micro average)', 'classifier', 'f1 score', 2)\n",
        "plot_bar_chart(fmacro, 'f1 scores (macro average)', 'classifier', 'f1 score', 2)"
      ],
      "execution_count": null,
      "outputs": [
        {
          "output_type": "display_data",
          "data": {
            "image/png": "[encoded data removed]",
            "text/plain": [
              "<Figure size 432x288 with 1 Axes>"
            ]
          },
          "metadata": {
            "tags": []
          }
        },
        {
          "output_type": "display_data",
          "data": {
            "image/png": "[encoded data removed]",
            "text/plain": [
              "<Figure size 432x288 with 1 Axes>"
            ]
          },
          "metadata": {
            "tags": []
          }
        }
      ]
    },
    {
      "cell_type": "markdown",
      "metadata": {
        "id": "ypzU4bjSGxxh"
      },
      "source": [
        "Παρατηρούμε πως καλύτερη απόδοση με βάση και τα 2 averaged f1 scores έχει ο knn, ενώ ακολουθούν ο mlp και ο gnb. Οι dummy έχουν αρκετά χαμηλότερες τιμές f1."
      ]
    },
    {
      "cell_type": "markdown",
      "metadata": {
        "id": "bo5pg5IeQmWj"
      },
      "source": [
        "###Πίνακας μεταβολής επίδοσης (accuracy score)\n"
      ]
    },
    {
      "cell_type": "code",
      "metadata": {
        "id": "av1yw_BAQuJ4",
        "outputId": "0b2638bb-5b1b-4deb-dc4e-64034e87fac7",
        "colab": {
          "base_uri": "https://localhost:8080/",
          "height": 170
        }
      },
      "source": [
        "data = {'Before':[0.5952208544532948, 0.4047791455467053, 0.8153511947863866, 0.8030412744388125, 0.5930485155684286, 0.5952208544532948, 0.5148443157132513, 0.5162925416364953],\n",
        "        'After':[0.5952208544532948, 0.4047791455467053, 0.8682114409847936, 0.9203475742215785, 0.8957277335264301,  0.5952208544532948, 0.4887762490948588, 0.49312092686459086]}\n",
        "df = pd.DataFrame(data, index =['constant 0', 'constant 1', 'gaussian naive bayes', 'knn', 'mlp', 'most frequent label', 'stratified', 'uniform'])\n",
        "print(df)"
      ],
      "execution_count": null,
      "outputs": [
        {
          "output_type": "stream",
          "text": [
            "                        Before     After\n",
            "constant 0            0.595221  0.595221\n",
            "constant 1            0.404779  0.404779\n",
            "gaussian naive bayes  0.815351  0.868211\n",
            "knn                   0.803041  0.920348\n",
            "mlp                   0.593049  0.895728\n",
            "most frequent label   0.595221  0.595221\n",
            "stratified            0.514844  0.488776\n",
            "uniform               0.516293  0.493121\n"
          ],
          "name": "stdout"
        }
      ]
    },
    {
      "cell_type": "markdown",
      "metadata": {
        "id": "pFP_rqetTtMf"
      },
      "source": [
        "Φυσικά η επίδοση των constant 0, 1 και most frequent label δεν μεταβάλλεται καθώς αυτοί οι ταξινομητές κάνουν πάντοτε την ίδια πρόβλεψη. Επομένως η επίδοσή τους εξαρτάται μόνο από τον αριθμό δειγμάτων κάθε κλάσης στο dataset. </br>\n",
        "Σημειώνεται επίσης πως οι ταξινομητές δεν έχουν για κάθε fit ακριβώς ίδια επίδοση. </br>\n",
        "Βλέπουμε στον gnb και τον knn αρκετή βελτίωση στην ακρίβεια της πρόβλεψης, γεγονός που υπογραμμίζει την σημασία τόσο της προεπεξεργασίας, όσο και της επιλογής των καταλληλότερων παραμέτρων για το κάθε dataset (αυτό αφορά τον knn). </br>\n",
        "Βλέπουμε πολύ μεγάλη βελτίωση στον mlp με το ένα κρυμμένο επίπεδο, δεν θα ήταν βέβαια πάντα τόσο μεγάλη η διαφορά, καθώς η επίδοση του default αλλάζει αρκετά.\n"
      ]
    }
  ]
}