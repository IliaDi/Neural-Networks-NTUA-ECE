{
  "nbformat": 4,
  "nbformat_minor": 0,
  "metadata": {
    "colab": {
      "provenance": []
    },
    "kernelspec": {
      "name": "python3",
      "display_name": "Python 3"
    }
  },
  "cells": [
    {
      "cell_type": "markdown",
      "metadata": {
        "id": "XXYtwgJbEsCb"
      },
      "source": [
        "# Νευρωνικά Δίκτυα & Ευφυή Υπολογιστικά Συστήματα:  Άσκηση 1"
      ]
    },
    {
      "cell_type": "markdown",
      "metadata": {
        "id": "-KBydbGNE5xQ"
      },
      "source": [
        "##Α. Στοιχεία ομάδας\n",
        "Αριθμός: 15 <br>\n",
        "S02: [Planning Relax Data Set](https://http://archive.ics.uci.edu/ml/datasets/Planning+Relax) <br>\n",
        "<br>\n",
        "Mέλη: <br>\n",
        "Διολέτη\tΊλια \t03115055 <br>\n",
        "Κυριάκου \tΑθηνά \t03117405  <br>\n",
        "Σουμπασάκου\tΑρτεμησία\t03115061\n"
      ]
    },
    {
      "cell_type": "markdown",
      "metadata": {
        "id": "TuObRr8cGN67"
      },
      "source": [
        "##Β. Dataset"
      ]
    },
    {
      "cell_type": "markdown",
      "metadata": {
        "id": "bnGti_0nWSnu"
      },
      "source": [
        "### **Περιγραφή**\n",
        "Στα ηλεκτροεγκεφαλογραφήματα (EEG) περιέχονται ταλαντώσεις που θεωρείται πως αντιστοιχούν στην συγχρονισμένη δραστηριότητα ομάδων νευρώνων. Αυτή η δραστηριότητα ανάλογα με τη συχνότητά της χαρακτηρίζεται ως Delta (0.5-4 Hz), Theta (4-8 Hz), Alpha (8-13 Hz), Beta (13-22 Hz), και Gamma (30-40 Hz). Για συχνότητες από 7-13 hz μιλάμε επίσης για mu ρυθμό που παρατηρείται κυρίως όταν το άτομο βρίσκεται σε ανάπαυση ή πριν ξεκινήσει κάποια κίνηση.\n",
        "\n",
        "Το Planning Relax Data Set περιέχει EEG δεδομένα που συγκεντρώθηκαν 5 φορές από ένα υγιές άτομο, δεξιόχειρα , 25 ετών. Του ζητήθηκε να ξαπλώσει σε μια αναπαυτική θέση με κλειστά μάτια και ελάχιστες κινήσεις ματιών. Έτσι έγιναν μετρήσεις στην θέση χαλάρωσης αλλά και αφού ζητήθηκε στο άτομο να φανταστεί πως σηκώνει κάποια δάχτυλα( οπότε καμία πραγματική κίνηση δεν πραγματοποιήθηκε).\n",
        "\n",
        "Το σύνολο δεδομένων αφορά στην ταξινόμηση δύο διανοητικών φάσεων:\n",
        "*   φάση σχεδιασμού\n",
        "*   φάση χαλάρωσης\n",
        "\n",
        "\n",
        "Έχουμε **182 δείγματα** με **13 χαρακτηριστικά** το καθένα. Έχουμε **δύο κλάσεις (1 και 2)** που αντιπροσωπεύουν αντίστοιχα τις 2 κλάσεις που περιγράφονται παραπάνω."
      ]
    },
    {
      "cell_type": "markdown",
      "metadata": {
        "id": "a6SH2vG0dO6m"
      },
      "source": [
        "### **Εισαγωγή**\n"
      ]
    },
    {
      "cell_type": "code",
      "metadata": {
        "id": "h71yuLf8WHou",
        "outputId": "1da60ba1-e45f-4ef3-a9e7-a2c6b6039e80",
        "colab": {
          "base_uri": "https://localhost:8080/"
        }
      },
      "source": [
        "# package upgrades\n",
        "!pip install --upgrade pip\n",
        "!pip install scikit-learn --upgrade\n",
        "!pip install numpy --upgrade\n",
        "!pip install pandas --upgrade\n",
        "\n",
        "from google.colab import files\n",
        "from google.colab import drive"
      ],
      "execution_count": null,
      "outputs": [
        {
          "output_type": "stream",
          "text": [
            "Requirement already up-to-date: pip in /usr/local/lib/python3.6/dist-packages (19.3.1)\n",
            "Requirement already up-to-date: scikit-learn in /usr/local/lib/python3.6/dist-packages (0.22)\n",
            "Requirement already satisfied, skipping upgrade: numpy>=1.11.0 in /usr/local/lib/python3.6/dist-packages (from scikit-learn) (1.17.4)\n",
            "Requirement already satisfied, skipping upgrade: joblib>=0.11 in /usr/local/lib/python3.6/dist-packages (from scikit-learn) (0.14.1)\n",
            "Requirement already satisfied, skipping upgrade: scipy>=0.17.0 in /usr/local/lib/python3.6/dist-packages (from scikit-learn) (1.3.3)\n",
            "Requirement already up-to-date: numpy in /usr/local/lib/python3.6/dist-packages (1.17.4)\n",
            "Requirement already up-to-date: pandas in /usr/local/lib/python3.6/dist-packages (0.25.3)\n",
            "Requirement already satisfied, skipping upgrade: pytz>=2017.2 in /usr/local/lib/python3.6/dist-packages (from pandas) (2018.9)\n",
            "Requirement already satisfied, skipping upgrade: numpy>=1.13.3 in /usr/local/lib/python3.6/dist-packages (from pandas) (1.17.4)\n",
            "Requirement already satisfied, skipping upgrade: python-dateutil>=2.6.1 in /usr/local/lib/python3.6/dist-packages (from pandas) (2.6.1)\n",
            "Requirement already satisfied, skipping upgrade: six>=1.5 in /usr/local/lib/python3.6/dist-packages (from python-dateutil>=2.6.1->pandas) (1.12.0)\n"
          ],
          "name": "stdout"
        }
      ]
    },
    {
      "cell_type": "code",
      "metadata": {
        "id": "ADk0tfDsaikc",
        "outputId": "d91b3aa5-4187-436c-809e-34aee9cf3dd1",
        "colab": {
          "resources": {
            "http://localhost:8080/nbextensions/google.colab/files.js": {
              "data": "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",
              "ok": true,
              "headers": [
                [
                  "content-type",
                  "application/javascript"
                ]
              ],
              "status": 200,
              "status_text": ""
            }
          },
          "base_uri": "https://localhost:8080/"
        }
      },
      "source": [
        "from google.colab import files\n",
        "uploaded = files.upload()"
      ],
      "execution_count": null,
      "outputs": [
        {
          "output_type": "display_data",
          "data": {
            "text/html": [
              "\n",
              "     <input type=\"file\" id=\"files-71aa8854-f385-4a93-b2d0-fc077814c4b5\" name=\"files[]\" multiple disabled />\n",
              "     <output id=\"result-71aa8854-f385-4a93-b2d0-fc077814c4b5\">\n",
              "      Upload widget is only available when the cell has been executed in the\n",
              "      current browser session. Please rerun this cell to enable.\n",
              "      </output>\n",
              "      <script src=\"/nbextensions/google.colab/files.js\"></script> "
            ],
            "text/plain": [
              "<IPython.core.display.HTML object>"
            ]
          },
          "metadata": {
            "tags": []
          }
        },
        {
          "output_type": "stream",
          "text": [
            "Saving plrx.txt to plrx (6).txt\n"
          ],
          "name": "stdout"
        }
      ]
    },
    {
      "cell_type": "markdown",
      "metadata": {
        "id": "q5mmjygVdX4-"
      },
      "source": [
        "Γίνεται μετατροπή του αρχείου txt σε csv:"
      ]
    },
    {
      "cell_type": "code",
      "metadata": {
        "id": "_3XAXZ9addgn"
      },
      "source": [
        "with open('plrx.txt') as infile, open('plrx.csv', 'w') as outfile:\n",
        "    stripped = (line.strip() for line in infile)\n",
        "    for line in stripped:\n",
        "        outfile.write(\" \".join(line.split()).replace(' ', ','))\n",
        "        outfile.write(\",\")\n",
        "        outfile.write(\"\\n\")\n",
        ""
      ],
      "execution_count": null,
      "outputs": []
    },
    {
      "cell_type": "code",
      "metadata": {
        "id": "vOzBXafqYohv"
      },
      "source": [
        "import pandas as pd\n",
        "df=pd.read_csv(\"plrx.csv\", header=None)   #first line contains data and not column names"
      ],
      "execution_count": null,
      "outputs": []
    },
    {
      "cell_type": "markdown",
      "metadata": {
        "id": "7ta9WoAzeOVF"
      },
      "source": [
        "### **Επισκόπηση**"
      ]
    },
    {
      "cell_type": "code",
      "metadata": {
        "id": "GeMOhGWcekG7",
        "outputId": "87e1786d-6199-41c0-9188-781a1ecc93d0",
        "colab": {
          "base_uri": "https://localhost:8080/"
        }
      },
      "source": [
        "print(df.shape)\n",
        "print(df)\n",
        "print(df.dtypes)"
      ],
      "execution_count": null,
      "outputs": [
        {
          "output_type": "stream",
          "text": [
            "(182, 14)\n",
            "          0         1         2         3   ...        10        11   12  13\n",
            "0   -0.17936 -0.207000 -0.209710 -0.097260  ...  0.003383 -0.334250  1.0 NaN\n",
            "1   -0.14659 -0.164940  0.249870 -0.073985  ... -0.017511  0.066959  1.0 NaN\n",
            "2   -0.13131  0.518160  0.432810  0.397890  ...  0.088057  0.631200  2.0 NaN\n",
            "3    0.64940  0.418780  0.148350  0.333490  ...  0.364680  0.571720  1.0 NaN\n",
            "4   -0.40628  0.115030  0.073336  0.070066  ... -0.126950  0.184570  1.0 NaN\n",
            "..       ...       ...       ...       ...  ...       ...       ...  ...  ..\n",
            "177 -0.55005  0.276290 -0.273240  0.113190  ...  0.002273 -0.100480  2.0 NaN\n",
            "178 -0.78399  0.254600 -0.700990 -0.299170  ... -0.020915  0.663940  1.0 NaN\n",
            "179  0.29877 -0.179620  0.032859 -0.899010  ...  0.246830 -0.389160  2.0 NaN\n",
            "180 -0.37812 -0.522870  0.215410 -0.243590  ...  0.007591  0.476030  1.0 NaN\n",
            "181  0.37913 -0.046562 -0.123360 -0.063958  ...  0.173690  0.490630  2.0 NaN\n",
            "\n",
            "[182 rows x 14 columns]\n",
            "0     float64\n",
            "1     float64\n",
            "2     float64\n",
            "3     float64\n",
            "4     float64\n",
            "5     float64\n",
            "6     float64\n",
            "7     float64\n",
            "8     float64\n",
            "9     float64\n",
            "10    float64\n",
            "11    float64\n",
            "12    float64\n",
            "13    float64\n",
            "dtype: object\n"
          ],
          "name": "stdout"
        }
      ]
    },
    {
      "cell_type": "markdown",
      "metadata": {
        "id": "wvNUs2wVbL_L"
      },
      "source": [
        "Με μία σύντομη επισκόπηση του dataset παρατηρούμε ότι:\n",
        "\n",
        "*  δεν υπάρχουν **indexes** γραμμών και στηλών\n",
        "*  δεν περιλαμβάνονται **επικεφαλίδες** γραμμών και στηλών\n",
        "* δεν υπάρχουν **ετικέτες** για τις κλάσεις\n",
        "*  ο **τύπος δεδομένων** είναι αριθμοί κινητής υποδιαστολής\n",
        "* τα δείγματα **δεν** είναι **διατεταγμένα**, δηλαδή δεν έχει σημασία η σειρά τους\n",
        "* τα δείγματα είναι σε γραμμές και τα χαρακτηριστικά σε στήλες (συμβατότητα με το scikit-learn)\n",
        "* υπάρχει μία επιπλέον στήλη (13) που προέκυψε από την μετατροπή του αρχείου δεδομένων σε csv, η οποία θα αφαιρεθεί\n"
      ]
    },
    {
      "cell_type": "markdown",
      "metadata": {
        "id": "5CfeKNQjfzrs"
      },
      "source": [
        "**Απουσιάζουσες τιμές** εκτός της κολόνας 13 δεν υπάρχουν, όπως αναφέρεται στην περιγραφή του dataset."
      ]
    },
    {
      "cell_type": "code",
      "metadata": {
        "id": "ob4dMfRihttC",
        "outputId": "b1cdaeaf-5808-4d01-df1c-5f976dd3f6fa",
        "colab": {
          "base_uri": "https://localhost:8080/"
        }
      },
      "source": [
        "import numpy as np\n",
        "np_data=df.values #direct conversion to numpy array since all the data are float numbers\n",
        "features=np_data[:, 0:-2]\n",
        "labels = np_data[:,-2].astype(int)\n",
        "frequencies = np.bincount(labels)\n",
        "print(\"class frequencies: \", frequencies)\n",
        "total_samples = frequencies.sum()\n",
        "print(\"total samples: \", total_samples)\n",
        "percentage = (frequencies / total_samples) * 100\n",
        "print(\"class percentage: \", percentage)"
      ],
      "execution_count": null,
      "outputs": [
        {
          "output_type": "stream",
          "text": [
            "class frequencies:  [  0 130  52]\n",
            "total samples:  182\n",
            "class percentage:  [ 0.         71.42857143 28.57142857]\n"
          ],
          "name": "stdout"
        }
      ]
    },
    {
      "cell_type": "markdown",
      "metadata": {
        "id": "fY8mUwyOjRSc"
      },
      "source": [
        "Το dataset **δεν είναι ισορροπημένο** αφού το\n",
        "\n",
        "1.   List item\n",
        "2.   List item\n",
        "\n",
        "71.4% των δειγμάτων ανήκουν στην κλάση 1 και το 28.6% στην κλάση 2."
      ]
    },
    {
      "cell_type": "markdown",
      "metadata": {
        "id": "k-vLoYVPCJn9"
      },
      "source": [
        "### **Διαχωρισμός σε train και test set**"
      ]
    },
    {
      "cell_type": "code",
      "metadata": {
        "id": "2s7uza19kIaK"
      },
      "source": [
        "from sklearn.model_selection import train_test_split\n",
        "train, test, train_labels, test_labels = train_test_split(features, labels, test_size=0.2) #20% test set"
      ],
      "execution_count": null,
      "outputs": []
    },
    {
      "cell_type": "markdown",
      "metadata": {
        "id": "cncZbPFmkaZU"
      },
      "source": [
        "##Γ. Baseline classification"
      ]
    },
    {
      "cell_type": "code",
      "metadata": {
        "id": "4UIMzbzryNOC",
        "outputId": "16d3a6a9-56e7-48ac-b975-3421933d440d",
        "colab": {
          "base_uri": "https://localhost:8080/",
          "height": 785
        }
      },
      "source": [
        "from sklearn.dummy import DummyClassifier\n",
        "\n",
        "comp_df_data = {'Classifier':[],\n",
        "        'F1 Micro (before)':[],\n",
        "        'F1 Micro (after)':[],\n",
        "        'F1 Macro (before)':[],\n",
        "        'F1 Macro (after)':[]}\n",
        "\n",
        "dc_uniform = DummyClassifier(strategy=\"uniform\")\n",
        "dc_constant_1 = DummyClassifier(strategy=\"constant\", constant=1)\n",
        "dc_constant_2 = DummyClassifier(strategy=\"constant\", constant=2)\n",
        "dc_most_frequent = DummyClassifier(strategy=\"most_frequent\")\n",
        "dc_stratified = DummyClassifier(strategy=\"stratified\")\n",
        "\n",
        "from sklearn.metrics import accuracy_score\n",
        "from sklearn.metrics import confusion_matrix\n",
        "from sklearn.metrics import precision_recall_fscore_support\n",
        "\n",
        "plrx_accuracy = {}\n",
        "cnf_matrix={}\n",
        "fmicro={}\n",
        "fmacro={}\n",
        "\n",
        "def get_scores(classifier, prediction):\n",
        "  plrx_accuracy[classifier] = accuracy_score(test_labels, prediction)\n",
        "  cnf_matrix[classifier] = confusion_matrix(test_labels, prediction)\n",
        "  fmicro[classifier]=precision_recall_fscore_support(test_labels, prediction, average='micro')\n",
        "  fmacro[classifier]=precision_recall_fscore_support(test_labels, prediction, average='macro')\n",
        "\n",
        "# training the classifiers with default values\n",
        "model = dc_uniform.fit(train, train_labels)\n",
        "pred= dc_uniform.predict(test)\n",
        "get_scores('uniform (random)', pred)\n",
        "\n",
        "model = dc_constant_1.fit(train, train_labels)\n",
        "pred= dc_constant_1.predict(test)\n",
        "get_scores('constant 1', pred)\n",
        "\n",
        "model = dc_constant_2.fit(train, train_labels)\n",
        "pred= dc_constant_2.predict(test)\n",
        "get_scores('constant 2', pred)\n",
        "\n",
        "model = dc_most_frequent.fit(train, train_labels)\n",
        "pred=dc_most_frequent.predict(test)\n",
        "get_scores('most frequent label', pred)\n",
        "\n",
        "model = dc_stratified.fit(train, train_labels)\n",
        "pred = dc_stratified.predict(test)\n",
        "get_scores('stratified', pred)\n",
        "\n",
        "from sklearn.neighbors import KNeighborsClassifier\n",
        "knn = KNeighborsClassifier() #default k = 5\n",
        "knn.fit(train, train_labels)\n",
        "pred = knn.predict(test)\n",
        "get_scores('knn', pred)\n",
        "\n",
        "# printing the metrics for each estimator\n",
        "print(\"Confusion matrix:\\n\")\n",
        "for k in cnf_matrix:\n",
        "  print(k, \"\\n\", cnf_matrix[k])\n",
        "print(\"\\n\")\n",
        "print(\"Micro Average (Precision,Recall,F1):\\n\")\n",
        "for k in fmicro:\n",
        "  print(k, fmicro[k])\n",
        "  comp_df_data['Classifier'].append(k)\n",
        "  comp_df_data['F1 Micro (before)'].append(fmicro[k][2])\n",
        "print(\"\\n\")\n",
        "print(\"Macro Average (Precision,Recall,F1):\\n\")\n",
        "for k in fmacro:\n",
        "  print(k, fmacro[k])\n",
        "  comp_df_data['F1 Macro (before)'].append(fmacro[k][2])\n",
        "print(\"\\n\")\n",
        ""
      ],
      "execution_count": null,
      "outputs": [
        {
          "output_type": "stream",
          "text": [
            "Confusion matrix:\n",
            "\n",
            "uniform (random) \n",
            " [[13 15]\n",
            " [ 4  5]]\n",
            "constant 1 \n",
            " [[28  0]\n",
            " [ 9  0]]\n",
            "constant 2 \n",
            " [[ 0 28]\n",
            " [ 0  9]]\n",
            "most frequent label \n",
            " [[28  0]\n",
            " [ 9  0]]\n",
            "stratified \n",
            " [[21  7]\n",
            " [ 5  4]]\n",
            "knn \n",
            " [[20  8]\n",
            " [ 9  0]]\n",
            "\n",
            "\n",
            "Micro Average (Precision,Recall,F1):\n",
            "\n",
            "uniform (random) (0.4864864864864865, 0.4864864864864865, 0.4864864864864865, None)\n",
            "constant 1 (0.7567567567567568, 0.7567567567567568, 0.7567567567567567, None)\n",
            "constant 2 (0.24324324324324326, 0.24324324324324326, 0.24324324324324326, None)\n",
            "most frequent label (0.7567567567567568, 0.7567567567567568, 0.7567567567567567, None)\n",
            "stratified (0.6756756756756757, 0.6756756756756757, 0.6756756756756757, None)\n",
            "knn (0.5405405405405406, 0.5405405405405406, 0.5405405405405406, None)\n",
            "\n",
            "\n",
            "Macro Average (Precision,Recall,F1):\n",
            "\n",
            "uniform (random) (0.5073529411764706, 0.5099206349206349, 0.46130268199233715, None)\n",
            "constant 1 (0.3783783783783784, 0.5, 0.4307692307692308, None)\n",
            "constant 2 (0.12162162162162163, 0.5, 0.1956521739130435, None)\n",
            "most frequent label (0.3783783783783784, 0.5, 0.4307692307692308, None)\n",
            "stratified (0.5856643356643356, 0.5972222222222222, 0.5888888888888889, None)\n",
            "knn (0.3448275862068966, 0.35714285714285715, 0.3508771929824561, None)\n",
            "\n",
            "\n"
          ],
          "name": "stdout"
        },
        {
          "output_type": "stream",
          "text": [
            "/usr/local/lib/python3.6/dist-packages/sklearn/metrics/_classification.py:1268: UndefinedMetricWarning: Precision and F-score are ill-defined and being set to 0.0 in labels with no predicted samples. Use `zero_division` parameter to control this behavior.\n",
            "  _warn_prf(average, modifier, msg_start, len(result))\n"
          ],
          "name": "stderr"
        }
      ]
    },
    {
      "cell_type": "markdown",
      "metadata": {
        "id": "6PM0BPOz_jFS"
      },
      "source": [
        "### **Average Metrics Bar Plots**"
      ]
    },
    {
      "cell_type": "code",
      "metadata": {
        "id": "iIHb_h3A_ug_",
        "outputId": "8573e08a-9e20-4785-8de2-d863d029565c",
        "colab": {
          "base_uri": "https://localhost:8080/"
        }
      },
      "source": [
        "# creating bar plots for f1 micro and f1 macro for all the classifiers\n",
        "%matplotlib inline\n",
        "import matplotlib.pyplot as plt\n",
        "def plot_bar_chart(label_to_value, title, x_label, y_label, index): #from https://www.programcreek.com/python/example/102292/matplotlib.pyplot.bar\n",
        "    n = len(label_to_value)\n",
        "    labels = sorted(label_to_value.keys())\n",
        "    values = [(label_to_value[label])[index] for label in labels]\n",
        "    plt.title(title)\n",
        "    plt.xlabel(x_label)\n",
        "    plt.ylabel(y_label)\n",
        "    plt.bar(range(n), values, align='center')\n",
        "    plt.xticks(range(n), labels, rotation='vertical', fontsize='7')\n",
        "    plt.gcf().subplots_adjust(bottom=0.2) # make room for x-axis labels\n",
        "    plt.show()\n",
        "\n",
        "plot_bar_chart(fmicro, 'f1 scores (micro)', 'classifier', 'f1 score', 2)\n",
        "plot_bar_chart(fmacro, 'f1 scores (macro)', 'classifier', 'f1 score', 2)"
      ],
      "execution_count": null,
      "outputs": [
        {
          "output_type": "display_data",
          "data": {
            "image/png": "[encoded data removed]",
            "text/plain": [
              "<Figure size 432x288 with 1 Axes>"
            ]
          },
          "metadata": {
            "tags": []
          }
        },
        {
          "output_type": "display_data",
          "data": {
            "image/png": "[encoded data removed]",
            "text/plain": [
              "<Figure size 432x288 with 1 Axes>"
            ]
          },
          "metadata": {
            "tags": []
          }
        }
      ]
    },
    {
      "cell_type": "markdown",
      "metadata": {
        "id": "bTNZggqADi7x"
      },
      "source": [
        "### **Σχολιασμός**"
      ]
    },
    {
      "cell_type": "markdown",
      "metadata": {
        "id": "18OtEf5fjnad"
      },
      "source": [
        "Πριν σχολιαστούν τα παραπάνω αποτελέσματα, θα πρέπει να σημειωθεί ότι οι τιμές επηρεάζονται από εκάστοτε διαχωρισμό σε train και test set.\n",
        "\n",
        "Παρατηρούμε ότι χειρότερες τιμές μετρικών έχει ο Constant2. Αυτό είναι λογικό, αφού ο αριθμός δειγμάτων της κλάσης 2 είναι μικρότερος (~30%).\n",
        "\n",
        "Επίσης, παρατηρούμε ότι η απόδοση του Constant1 ταυτίζεται με του Most Frequent Label. Κάτι τέτοιο είναι αναμενόμενο επειδή η κλάση 1 είναι πιο συχνή στο train set. Η στρατηγικές αυτές έχουν συνήθως το μεγαλύτερο f1 Micro Average, ενώ άλλες φορές καλύτερες μετρική micro εμφανίζει η Stratified.\n",
        "\n",
        "Τέλος αξίζει να σημειωθεί ότι η κατάταξη των ταξινομητών είναι η ίδια ως προς κάθε μετρική των Micro και Macro Average.\n",
        "\n"
      ]
    },
    {
      "cell_type": "markdown",
      "metadata": {
        "id": "mbWnuFur7MEI"
      },
      "source": [
        "##Δ. Βελτιστοποίηση ταξινομητών"
      ]
    },
    {
      "cell_type": "markdown",
      "metadata": {
        "id": "DBqwy2u2PQcx"
      },
      "source": [
        "Ψαχνουμε να βελτιστοποιήσουμε την υπερπαράμετρο k του knn με δική μας υλοποίηση 10-fold cross validation, καθώς και να εντοπίσουμε την βέλτιστη αρχιτεκτονική για την προεπεξεργασία. </br>\n",
        "[Οι dummy δεν έχουν παραμέτρους για βελτιστοποίηση , γίνεται όμως μια εκτίμηση της απόδοσής τους στην καλύτερη αρχιτεκτονική]\n"
      ]
    },
    {
      "cell_type": "markdown",
      "metadata": {
        "id": "QhE0Yav91FnC"
      },
      "source": [
        "### **Υλοποίηση του Cross Validation**"
      ]
    },
    {
      "cell_type": "code",
      "metadata": {
        "id": "NvR5cw-cRCE7"
      },
      "source": [
        "from sklearn.model_selection import KFold\n",
        "from sklearn.feature_selection import VarianceThreshold\n",
        "from sklearn import preprocessing\n",
        "from imblearn.over_sampling import RandomOverSampler\n",
        "from sklearn.decomposition import PCA\n",
        "\n",
        "# dataframe to compare the metrics of architecture implementations for knn classifier\n",
        "knn_archcomp = pd.DataFrame(columns=['Architecture','K','Accuracy','Precision(micro avg)','Recall(micro avg)','F1(micro avg)','Precision(macro avg)','Recall(macro avg)','F1(macro avg)'])\n",
        "\n",
        "#random oversampler\n",
        "ros=RandomOverSampler()\n",
        "#train_ros, trainlabels_ros=ros.fit_resample(train_scaled,train_labels)\n",
        "\n",
        "#CROSS VALIDATION\n",
        "\n",
        "def my_cross_val_score(classifier, cvtest, cvtest_labels ): #https://medium.com/datadriveninvestor/k-fold-cross-validation-6b8518070833\n",
        "  cv = KFold(n_splits=10)\n",
        "  score=[]\n",
        "  for train_index, test_index in cv.split(cvtest):\n",
        "      X_train, X_test, y_train, y_test = cvtest[train_index], cvtest[test_index], cvtest_labels[train_index], cvtest_labels[test_index]\n",
        "      classifier.fit(X_train, y_train)\n",
        "      score.append(classifier.score(X_test, y_test))\n",
        "      return score\n",
        "\n",
        "def knn_cross_val(cvtrain, cvtest):\n",
        "  myList = list(range(1,50))\n",
        "  neighbors = list(filter(lambda x: x % 2 != 0, myList))\n",
        "  # empty list that will hold cv scores\n",
        "  cv_scores = []\n",
        "  # perform 10-fold cross validation\n",
        "  for k in neighbors:\n",
        "      knn = KNeighborsClassifier(n_neighbors=k)\n",
        "      scores = my_cross_val_score(knn, cvtrain, train_labels)\n",
        "      cv_scores.append(np.mean(scores))\n",
        "  # το σφάλμα είναι το αντίστροφο της πιστότητας\n",
        "  mean_error = [1 - x for x in cv_scores]\n",
        "  # determining best k\n",
        "  optimal_k = neighbors[mean_error.index(min(mean_error))]\n",
        "  print(\"The optimal number of neighbors (calculated in the training set) is Κ=%d\" % optimal_k)\n",
        "  # για το optimal k παίρνουμε και τα αποτέλεσματα στο test set\n",
        "  knn = KNeighborsClassifier(n_neighbors = optimal_k)\n",
        "  knn.fit(cvtrain, train_labels)\n",
        "  pred = knn.predict(cvtest)\n",
        "  get_scores('knn', pred) #cnf matrix, precision, recall , f1\n",
        "\n",
        "  print(\"accuracy:\\n\")\n",
        "  print(plrx_accuracy['knn'], \"\\n\")\n",
        "  print(\"Confusion matrix:\\n\")\n",
        "  print(cnf_matrix['knn'], \"\\n\")\n",
        "  print(\"Micro Average (Precision,Recall,F1):\\n\")\n",
        "  print(fmicro['knn'], \"\\n\")\n",
        "  print(\"Macro Average (Precision,Recall,F1):\\n\")\n",
        "  print(fmacro['knn'], \"\\n\")\n",
        "  return optimal_k, plrx_accuracy['knn'], fmicro['knn'], fmacro['knn']"
      ],
      "execution_count": null,
      "outputs": []
    },
    {
      "cell_type": "markdown",
      "metadata": {
        "id": "NOI4Jm0WE0P7"
      },
      "source": [
        "### **Χωρίς προεπεξεργασία**\n",
        "\n",
        "\n"
      ]
    },
    {
      "cell_type": "code",
      "metadata": {
        "id": "JxAfYrcRFhVJ",
        "outputId": "290b4ee2-c02b-477b-cc68-db7dc72dc528",
        "colab": {
          "base_uri": "https://localhost:8080/"
        }
      },
      "source": [
        "optimal_k, plrx_accuracy['knn'], fmicro['knn'], fmacro['knn'] = knn_cross_val(train, test)\n",
        "index = 0\n",
        "knn_archcomp.loc[index] = ['Without pre processing', optimal_k, plrx_accuracy['knn'], fmicro['knn'][0], fmicro['knn'][1], fmicro['knn'][2],\n",
        "                           fmacro['knn'][0], fmacro['knn'][1], fmacro['knn'][2]]"
      ],
      "execution_count": null,
      "outputs": [
        {
          "output_type": "stream",
          "text": [
            "The optimal number of neighbors (calculated in the training set) is Κ=13\n",
            "accuracy:\n",
            "\n",
            "0.6756756756756757 \n",
            "\n",
            "Confusion matrix:\n",
            "\n",
            "[[25  3]\n",
            " [ 9  0]] \n",
            "\n",
            "Micro Average (Precision,Recall,F1):\n",
            "\n",
            "(0.6756756756756757, 0.6756756756756757, 0.6756756756756757, None) \n",
            "\n",
            "Macro Average (Precision,Recall,F1):\n",
            "\n",
            "(0.36764705882352944, 0.44642857142857145, 0.403225806451613, None) \n",
            "\n"
          ],
          "name": "stdout"
        }
      ]
    },
    {
      "cell_type": "markdown",
      "metadata": {
        "id": "wne5SfVZLo-U"
      },
      "source": [
        "### **με Variance Threshold & Standard Scaler**"
      ]
    },
    {
      "cell_type": "code",
      "metadata": {
        "id": "hV40iyUdMITs",
        "outputId": "987be03f-0813-49e8-d6c1-6d2086bc5275",
        "colab": {
          "base_uri": "https://localhost:8080/"
        }
      },
      "source": [
        "# αρχικοποιούμε έναν selector\n",
        "selector = VarianceThreshold()\n",
        "train_reduced = selector.fit_transform(train)\n",
        "mask = selector.get_support()\n",
        "test_reduced = selector.transform(test)\n",
        "\n",
        "#κανονικοποίηση\n",
        "scaler = preprocessing.StandardScaler().fit(train_reduced)\n",
        "train_scaled = scaler.transform(train_reduced)\n",
        "test_scaled = scaler.transform(test_reduced)\n",
        "\n",
        "optimal_k, plrx_accuracy['knn'], fmicro['knn'], fmacro['knn'] = knn_cross_val(train_scaled, test_scaled)\n",
        "index += 1\n",
        "knn_archcomp.loc[index] = ['Variance Threshold & Standard Scaler', optimal_k, plrx_accuracy['knn'], fmicro['knn'][0], fmicro['knn'][1], fmicro['knn'][2],\n",
        "                           fmacro['knn'][0], fmacro['knn'][1], fmacro['knn'][2]]\n"
      ],
      "execution_count": null,
      "outputs": [
        {
          "output_type": "stream",
          "text": [
            "The optimal number of neighbors (calculated in the training set) is Κ=1\n",
            "accuracy:\n",
            "\n",
            "0.5945945945945946 \n",
            "\n",
            "Confusion matrix:\n",
            "\n",
            "[[21  7]\n",
            " [ 8  1]] \n",
            "\n",
            "Micro Average (Precision,Recall,F1):\n",
            "\n",
            "(0.5945945945945946, 0.5945945945945946, 0.5945945945945946, None) \n",
            "\n",
            "Macro Average (Precision,Recall,F1):\n",
            "\n",
            "(0.4245689655172414, 0.4305555555555556, 0.4272445820433437, None) \n",
            "\n"
          ],
          "name": "stdout"
        }
      ]
    },
    {
      "cell_type": "markdown",
      "metadata": {
        "id": "qpl2XfGkQRZ_"
      },
      "source": [
        "### **με Variance Threshold & MinMax Scaler**"
      ]
    },
    {
      "cell_type": "code",
      "metadata": {
        "id": "1bGZ6vmfQXQR",
        "outputId": "cf93658d-b640-4b30-d2dc-cfc0401761a8",
        "colab": {
          "base_uri": "https://localhost:8080/"
        }
      },
      "source": [
        "min_max_scaler = preprocessing.MinMaxScaler()\n",
        "train_minmax = min_max_scaler.fit_transform(train)\n",
        "test_minmax = min_max_scaler.transform(test)\n",
        "\n",
        "selector = VarianceThreshold()\n",
        "train_reduced = selector.fit_transform(train)\n",
        "mask = selector.get_support()\n",
        "test_reduced = selector.transform(test)\n",
        "\n",
        "optimal_k, plrx_accuracy['knn'], fmicro['knn'], fmacro['knn'] = knn_cross_val(train_reduced, test_reduced)\n",
        "index += 1\n",
        "knn_archcomp.loc[index] = ['Variance Threshold & MinMax Scaler', optimal_k, plrx_accuracy['knn'], fmicro['knn'][0], fmicro['knn'][1], fmicro['knn'][2],\n",
        "                           fmacro['knn'][0], fmacro['knn'][1], fmacro['knn'][2]]"
      ],
      "execution_count": null,
      "outputs": [
        {
          "output_type": "stream",
          "text": [
            "The optimal number of neighbors (calculated in the training set) is Κ=13\n",
            "accuracy:\n",
            "\n",
            "0.6756756756756757 \n",
            "\n",
            "Confusion matrix:\n",
            "\n",
            "[[25  3]\n",
            " [ 9  0]] \n",
            "\n",
            "Micro Average (Precision,Recall,F1):\n",
            "\n",
            "(0.6756756756756757, 0.6756756756756757, 0.6756756756756757, None) \n",
            "\n",
            "Macro Average (Precision,Recall,F1):\n",
            "\n",
            "(0.36764705882352944, 0.44642857142857145, 0.403225806451613, None) \n",
            "\n"
          ],
          "name": "stdout"
        }
      ]
    },
    {
      "cell_type": "markdown",
      "metadata": {
        "id": "rXTyCH2sQ8zy"
      },
      "source": [
        "### **με PCA**"
      ]
    },
    {
      "cell_type": "code",
      "metadata": {
        "id": "j97mu4IVQ_uc",
        "outputId": "21f895e0-2c2d-446d-804a-25dd3db58b7d",
        "colab": {
          "base_uri": "https://localhost:8080/"
        }
      },
      "source": [
        "#pca\n",
        "pca=PCA().fit(train)\n",
        "train_pca=pca.fit_transform(train)\n",
        "\n",
        "optimal_k, plrx_accuracy['knn'], fmicro['knn'], fmacro['knn'] = knn_cross_val(train_pca, test)\n",
        "index += 1\n",
        "knn_archcomp.loc[index] = ['PCA', optimal_k, plrx_accuracy['knn'], fmicro['knn'][0], fmicro['knn'][1], fmicro['knn'][2],\n",
        "                           fmacro['knn'][0], fmacro['knn'][1], fmacro['knn'][2]]"
      ],
      "execution_count": null,
      "outputs": [
        {
          "output_type": "stream",
          "text": [
            "The optimal number of neighbors (calculated in the training set) is Κ=13\n",
            "accuracy:\n",
            "\n",
            "0.7297297297297297 \n",
            "\n",
            "Confusion matrix:\n",
            "\n",
            "[[26  2]\n",
            " [ 8  1]] \n",
            "\n",
            "Micro Average (Precision,Recall,F1):\n",
            "\n",
            "(0.7297297297297297, 0.7297297297297297, 0.7297297297297297, None) \n",
            "\n",
            "Macro Average (Precision,Recall,F1):\n",
            "\n",
            "(0.5490196078431372, 0.5198412698412699, 0.5026881720430108, None) \n",
            "\n"
          ],
          "name": "stdout"
        }
      ]
    },
    {
      "cell_type": "markdown",
      "metadata": {
        "id": "BUj5cYZ_0drg"
      },
      "source": [
        "### **Συγκριτικός πίνακας αρχιτεκτονικών προεπεξεργασίας δεδομένων για τον kNN ταξινομητή και επιλογή βέλτιστης**\n"
      ]
    },
    {
      "cell_type": "code",
      "metadata": {
        "id": "SRTNsLrb2YLv",
        "outputId": "fea1f00a-3306-4be3-86d2-c2c6cf769dcf",
        "colab": {
          "base_uri": "https://localhost:8080/"
        }
      },
      "source": [
        "knn_archcomp"
      ],
      "execution_count": null,
      "outputs": [
        {
          "output_type": "execute_result",
          "data": {
            "text/html": [
              "<div>\n",
              "<style scoped>\n",
              "    .dataframe tbody tr th:only-of-type {\n",
              "        vertical-align: middle;\n",
              "    }\n",
              "\n",
              "    .dataframe tbody tr th {\n",
              "        vertical-align: top;\n",
              "    }\n",
              "\n",
              "    .dataframe thead th {\n",
              "        text-align: right;\n",
              "    }\n",
              "</style>\n",
              "<table border=\"1\" class=\"dataframe\">\n",
              "  <thead>\n",
              "    <tr style=\"text-align: right;\">\n",
              "      <th></th>\n",
              "      <th>Architecture</th>\n",
              "      <th>K</th>\n",
              "      <th>Accuracy</th>\n",
              "      <th>Precision(micro avg)</th>\n",
              "      <th>Recall(micro avg)</th>\n",
              "      <th>F1(micro avg)</th>\n",
              "      <th>Precision(macro avg)</th>\n",
              "      <th>Recall(macro avg)</th>\n",
              "      <th>F1(macro avg)</th>\n",
              "    </tr>\n",
              "  </thead>\n",
              "  <tbody>\n",
              "    <tr>\n",
              "      <th>0</th>\n",
              "      <td>Without pre processing</td>\n",
              "      <td>13</td>\n",
              "      <td>0.675676</td>\n",
              "      <td>0.675676</td>\n",
              "      <td>0.675676</td>\n",
              "      <td>0.675676</td>\n",
              "      <td>0.367647</td>\n",
              "      <td>0.446429</td>\n",
              "      <td>0.403226</td>\n",
              "    </tr>\n",
              "    <tr>\n",
              "      <th>1</th>\n",
              "      <td>Variance Threshold &amp; Standard Scaler</td>\n",
              "      <td>1</td>\n",
              "      <td>0.594595</td>\n",
              "      <td>0.594595</td>\n",
              "      <td>0.594595</td>\n",
              "      <td>0.594595</td>\n",
              "      <td>0.424569</td>\n",
              "      <td>0.430556</td>\n",
              "      <td>0.427245</td>\n",
              "    </tr>\n",
              "    <tr>\n",
              "      <th>2</th>\n",
              "      <td>Variance Threshold &amp; MinMax Scaler</td>\n",
              "      <td>13</td>\n",
              "      <td>0.675676</td>\n",
              "      <td>0.675676</td>\n",
              "      <td>0.675676</td>\n",
              "      <td>0.675676</td>\n",
              "      <td>0.367647</td>\n",
              "      <td>0.446429</td>\n",
              "      <td>0.403226</td>\n",
              "    </tr>\n",
              "    <tr>\n",
              "      <th>3</th>\n",
              "      <td>PCA</td>\n",
              "      <td>13</td>\n",
              "      <td>0.729730</td>\n",
              "      <td>0.729730</td>\n",
              "      <td>0.729730</td>\n",
              "      <td>0.729730</td>\n",
              "      <td>0.549020</td>\n",
              "      <td>0.519841</td>\n",
              "      <td>0.502688</td>\n",
              "    </tr>\n",
              "  </tbody>\n",
              "</table>\n",
              "</div>"
            ],
            "text/plain": [
              "                           Architecture   K  ...  Recall(macro avg)  F1(macro avg)\n",
              "0                Without pre processing  13  ...           0.446429       0.403226\n",
              "1  Variance Threshold & Standard Scaler   1  ...           0.430556       0.427245\n",
              "2    Variance Threshold & MinMax Scaler  13  ...           0.446429       0.403226\n",
              "3                                   PCA  13  ...           0.519841       0.502688\n",
              "\n",
              "[4 rows x 9 columns]"
            ]
          },
          "metadata": {
            "tags": []
          },
          "execution_count": 31
        }
      ]
    },
    {
      "cell_type": "markdown",
      "metadata": {
        "id": "sH53DP6WNqdE"
      },
      "source": [
        "Η καλύτερη αρχιτεκτονική ως προς την πλειονότητα των μετρικών είναι η **PCA**."
      ]
    },
    {
      "cell_type": "markdown",
      "metadata": {
        "id": "Wf-5vbK02hFs"
      },
      "source": [
        "### **Εφαρμογή PCA στους Dummy Classifiers**"
      ]
    },
    {
      "cell_type": "markdown",
      "metadata": {
        "id": "SGkIqbS9bI1n"
      },
      "source": [
        "\n",
        "Παρακάτω δίνονται οι μετρικές απόδοσης των dummy classifiers με την PCA, η οποία αποτελεί τη βέλτιστη στρατηγική προεπεξεργασίας του train set για τον kNN ταξινομητή, βάσει των παραπάνω αποτελεσμάτων.\n",
        "\n"
      ]
    },
    {
      "cell_type": "code",
      "metadata": {
        "id": "aV7yV5N5bJT3",
        "outputId": "586444f6-3d10-48ea-d616-e8173dc261d4",
        "colab": {
          "base_uri": "https://localhost:8080/"
        }
      },
      "source": [
        "model = dc_constant_2.fit(train_pca, train_labels)\n",
        "pred= dc_constant_2.predict(test)\n",
        "get_scores('constant 2', pred)\n",
        "\n",
        "model = dc_constant_1.fit(train_pca, train_labels)\n",
        "pred= dc_constant_1.predict(test)\n",
        "get_scores('constant 1', pred)\n",
        "\n",
        "model = dc_most_frequent.fit(train_pca, train_labels)\n",
        "pred=dc_most_frequent.predict(test)\n",
        "get_scores('most frequent label', pred)\n",
        "\n",
        "model = dc_stratified.fit(train_pca, train_labels)\n",
        "pred = dc_stratified.predict(test)\n",
        "get_scores('stratified', pred)\n",
        "\n",
        "print(\"Confusion matrix:\\n\")\n",
        "for k in cnf_matrix:\n",
        "  print(k, \"\\n\", cnf_matrix[k])\n",
        "print(\"\\n\")\n",
        "print(\"Micro Average (Precision,Recall,F1):\\n\")\n",
        "for k in fmicro:\n",
        "  print(k, fmicro[k])\n",
        "  comp_df_data['F1 Micro (after)'].append(fmicro[k][2])\n",
        "print(\"\\n\")\n",
        "print(\"Macro Average (Precision,Recall,F1):\\n\")\n",
        "for k in fmacro:\n",
        "  print(k, fmacro[k])\n",
        "  comp_df_data['F1 Macro (after)'].append(fmacro[k][2])\n",
        "print(\"\\n\")"
      ],
      "execution_count": null,
      "outputs": [
        {
          "output_type": "stream",
          "text": [
            "Confusion matrix:\n",
            "\n",
            "uniform (random) \n",
            " [[13 15]\n",
            " [ 4  5]]\n",
            "constant 1 \n",
            " [[28  0]\n",
            " [ 9  0]]\n",
            "constant 2 \n",
            " [[ 0 28]\n",
            " [ 0  9]]\n",
            "most frequent label \n",
            " [[28  0]\n",
            " [ 9  0]]\n",
            "stratified \n",
            " [[19  9]\n",
            " [ 8  1]]\n",
            "knn \n",
            " [[26  2]\n",
            " [ 8  1]]\n",
            "\n",
            "\n",
            "Micro Average (Precision,Recall,F1):\n",
            "\n",
            "uniform (random) (0.4864864864864865, 0.4864864864864865, 0.4864864864864865, None)\n",
            "constant 1 (0.7567567567567568, 0.7567567567567568, 0.7567567567567567, None)\n",
            "constant 2 (0.24324324324324326, 0.24324324324324326, 0.24324324324324326, None)\n",
            "most frequent label (0.7567567567567568, 0.7567567567567568, 0.7567567567567567, None)\n",
            "stratified (0.5405405405405406, 0.5405405405405406, 0.5405405405405406, None)\n",
            "knn (0.7297297297297297, 0.7297297297297297, 0.7297297297297297, None)\n",
            "\n",
            "\n",
            "Macro Average (Precision,Recall,F1):\n",
            "\n",
            "uniform (random) (0.5073529411764706, 0.5099206349206349, 0.46130268199233715, None)\n",
            "constant 1 (0.3783783783783784, 0.5, 0.4307692307692308, None)\n",
            "constant 2 (0.12162162162162163, 0.5, 0.1956521739130435, None)\n",
            "most frequent label (0.3783783783783784, 0.5, 0.4307692307692308, None)\n",
            "stratified (0.40185185185185185, 0.3948412698412699, 0.3980861244019139, None)\n",
            "knn (0.5490196078431372, 0.5198412698412699, 0.5026881720430108, None)\n",
            "\n",
            "\n"
          ],
          "name": "stdout"
        },
        {
          "output_type": "stream",
          "text": [
            "/usr/local/lib/python3.6/dist-packages/sklearn/metrics/_classification.py:1268: UndefinedMetricWarning: Precision and F-score are ill-defined and being set to 0.0 in labels with no predicted samples. Use `zero_division` parameter to control this behavior.\n",
            "  _warn_prf(average, modifier, msg_start, len(result))\n"
          ],
          "name": "stderr"
        }
      ]
    },
    {
      "cell_type": "markdown",
      "metadata": {
        "id": "TrWc6_d8F7Mg"
      },
      "source": [
        "### **Χρόνοι εκτέλεσης για το τελικό fit κάθε ταξινομητή**"
      ]
    },
    {
      "cell_type": "markdown",
      "metadata": {
        "id": "tE9ubAb8TOnF"
      },
      "source": [
        "Παρακάτω υπολογίζουμε τον χρόνο εκτέλεσης για το τελικό fit του knn και των dummy ταξινομητών.\n"
      ]
    },
    {
      "cell_type": "code",
      "metadata": {
        "id": "SuNvMBF0u41v",
        "outputId": "543f6fcb-d395-452f-87a0-a35d6f8f2c94",
        "colab": {
          "base_uri": "https://localhost:8080/"
        }
      },
      "source": [
        "import timeit as t\n",
        "exec_time = pd.DataFrame(columns=['Classifiers', 'Fit', 'Predict'])\n",
        "\n",
        "exec_time.loc[0,'Classifiers']='Uniform'\n",
        "exec_time.loc[0, 'Fit']=t.timeit('dc_uniform.fit(train, train_labels)', number=100, globals=globals())\n",
        "exec_time.loc[0, 'Predict']=t.timeit('dc_uniform.predict(test)', number=100, globals=globals())\n",
        "\n",
        "exec_time.loc[1,'Classifiers']='Constant 2'\n",
        "exec_time.loc[1, 'Fit']=t.timeit('dc_constant_2.fit(train, train_labels)', number=100, globals=globals())\n",
        "exec_time.loc[1, 'Predict']=t.timeit('dc_constant_2.predict(test)', number=100, globals=globals())\n",
        "\n",
        "exec_time.loc[2,'Classifiers']='Constant 1'\n",
        "exec_time.loc[2, 'Fit']=t.timeit('dc_constant_1.fit(train, train_labels)', number=100, globals=globals())\n",
        "exec_time.loc[2, 'Predict']=t.timeit('dc_constant_1.predict(test)', number=100, globals=globals())\n",
        "\n",
        "exec_time.loc[3,'Classifiers']='Most Frequent'\n",
        "exec_time.loc[3, 'Fit']=t.timeit('dc_most_frequent.fit(train, train_labels)', number=100, globals=globals())\n",
        "exec_time.loc[3, 'Predict']=t.timeit('dc_most_frequent.predict(test)', number=100, globals=globals())\n",
        "\n",
        "exec_time.loc[4,'Classifiers']='Stratified'\n",
        "exec_time.loc[4, 'Fit']=t.timeit('dc_stratified.fit(train, train_labels)', number=100, globals=globals())\n",
        "exec_time.loc[4, 'Predict']=t.timeit('dc_stratified.predict(test)', number=100, globals=globals())\n",
        "\n",
        "exec_time.loc[5,'Classifiers']='KNN'\n",
        "exec_time.loc[5, 'Fit']=t.timeit('knn.fit(train_pca, train_labels)', number=100, globals=globals())\n",
        "exec_time.loc[5, 'Predict']=t.timeit('knn.predict(test)', number=100, globals=globals())\n",
        "\n",
        "exec_time"
      ],
      "execution_count": null,
      "outputs": [
        {
          "output_type": "execute_result",
          "data": {
            "text/html": [
              "<div>\n",
              "<style scoped>\n",
              "    .dataframe tbody tr th:only-of-type {\n",
              "        vertical-align: middle;\n",
              "    }\n",
              "\n",
              "    .dataframe tbody tr th {\n",
              "        vertical-align: top;\n",
              "    }\n",
              "\n",
              "    .dataframe thead th {\n",
              "        text-align: right;\n",
              "    }\n",
              "</style>\n",
              "<table border=\"1\" class=\"dataframe\">\n",
              "  <thead>\n",
              "    <tr style=\"text-align: right;\">\n",
              "      <th></th>\n",
              "      <th>Classifiers</th>\n",
              "      <th>Fit</th>\n",
              "      <th>Predict</th>\n",
              "    </tr>\n",
              "  </thead>\n",
              "  <tbody>\n",
              "    <tr>\n",
              "      <th>0</th>\n",
              "      <td>Uniform</td>\n",
              "      <td>0.0149283</td>\n",
              "      <td>0.00626854</td>\n",
              "    </tr>\n",
              "    <tr>\n",
              "      <th>1</th>\n",
              "      <td>Constant 2</td>\n",
              "      <td>0.0112502</td>\n",
              "      <td>0.0020761</td>\n",
              "    </tr>\n",
              "    <tr>\n",
              "      <th>2</th>\n",
              "      <td>Constant 1</td>\n",
              "      <td>0.0110227</td>\n",
              "      <td>0.00203271</td>\n",
              "    </tr>\n",
              "    <tr>\n",
              "      <th>3</th>\n",
              "      <td>Most Frequent</td>\n",
              "      <td>0.00910544</td>\n",
              "      <td>0.00260463</td>\n",
              "    </tr>\n",
              "    <tr>\n",
              "      <th>4</th>\n",
              "      <td>Stratified</td>\n",
              "      <td>0.00908618</td>\n",
              "      <td>0.00727854</td>\n",
              "    </tr>\n",
              "    <tr>\n",
              "      <th>5</th>\n",
              "      <td>KNN</td>\n",
              "      <td>0.0486732</td>\n",
              "      <td>0.217787</td>\n",
              "    </tr>\n",
              "  </tbody>\n",
              "</table>\n",
              "</div>"
            ],
            "text/plain": [
              "     Classifiers         Fit     Predict\n",
              "0        Uniform   0.0149283  0.00626854\n",
              "1     Constant 2   0.0112502   0.0020761\n",
              "2     Constant 1   0.0110227  0.00203271\n",
              "3  Most Frequent  0.00910544  0.00260463\n",
              "4     Stratified  0.00908618  0.00727854\n",
              "5            KNN   0.0486732    0.217787"
            ]
          },
          "metadata": {
            "tags": []
          },
          "execution_count": 33
        }
      ]
    },
    {
      "cell_type": "markdown",
      "metadata": {
        "id": "YyldEE5McE0y"
      },
      "source": [
        "**Σχολιασμός χρόνων εκτέλεσης:**\n",
        " Όλοι οι χρόνοι είναι σχετικά μικροί (< 1s) καθώς το dataset είναι μικρό και η αρχιτεκτονική των ταξινομητών απλή. Επίσης τον μεγαλύτερο χρόνο εκτέλεσης έχει ο Knn, αφού οι dummy ταξινομητές δεν έχουν πολλά υπολογιστικά κριτήρια."
      ]
    },
    {
      "cell_type": "markdown",
      "metadata": {
        "id": "3NoI0rQjGR68"
      },
      "source": [
        "### **Average Metrics Bar Plots**"
      ]
    },
    {
      "cell_type": "code",
      "metadata": {
        "id": "0jZ2Ykh2wcGA",
        "outputId": "da4704d8-0993-4961-cf9a-6db4435a36a9",
        "colab": {
          "base_uri": "https://localhost:8080/"
        }
      },
      "source": [
        "plot_bar_chart(fmicro, 'f1 scores (micro)', 'classifier', 'f1 score', 2)\n",
        "plot_bar_chart(fmacro, 'f1 scores (macro)', 'classifier', 'f1 score', 2)"
      ],
      "execution_count": null,
      "outputs": [
        {
          "output_type": "display_data",
          "data": {
            "image/png": "[encoded data removed]",
            "text/plain": [
              "<Figure size 432x288 with 1 Axes>"
            ]
          },
          "metadata": {
            "tags": []
          }
        },
        {
          "output_type": "display_data",
          "data": {
            "image/png": "[encoded data removed]",
            "text/plain": [
              "<Figure size 432x288 with 1 Axes>"
            ]
          },
          "metadata": {
            "tags": []
          }
        }
      ]
    },
    {
      "cell_type": "markdown",
      "metadata": {
        "id": "NSe14-yM9qHO"
      },
      "source": [
        "### **Πίνακας μεταβολής της μετρικής f1 πριν και μετά τη βελτιστοποίηση των ταξινομητών**"
      ]
    },
    {
      "cell_type": "code",
      "metadata": {
        "id": "BM5L5NGweKDi",
        "outputId": "a9917a3b-c2b3-4a29-87e9-d9090d3c6749",
        "colab": {
          "base_uri": "https://localhost:8080/"
        }
      },
      "source": [
        "comp_df = pd.DataFrame(comp_df_data)\n",
        "comp_df"
      ],
      "execution_count": null,
      "outputs": [
        {
          "output_type": "execute_result",
          "data": {
            "text/html": [
              "<div>\n",
              "<style scoped>\n",
              "    .dataframe tbody tr th:only-of-type {\n",
              "        vertical-align: middle;\n",
              "    }\n",
              "\n",
              "    .dataframe tbody tr th {\n",
              "        vertical-align: top;\n",
              "    }\n",
              "\n",
              "    .dataframe thead th {\n",
              "        text-align: right;\n",
              "    }\n",
              "</style>\n",
              "<table border=\"1\" class=\"dataframe\">\n",
              "  <thead>\n",
              "    <tr style=\"text-align: right;\">\n",
              "      <th></th>\n",
              "      <th>Classifier</th>\n",
              "      <th>F1 Micro (before)</th>\n",
              "      <th>F1 Micro (after)</th>\n",
              "      <th>F1 Macro (before)</th>\n",
              "      <th>F1 Macro (after)</th>\n",
              "    </tr>\n",
              "  </thead>\n",
              "  <tbody>\n",
              "    <tr>\n",
              "      <th>0</th>\n",
              "      <td>uniform (random)</td>\n",
              "      <td>0.486486</td>\n",
              "      <td>0.486486</td>\n",
              "      <td>0.461303</td>\n",
              "      <td>0.461303</td>\n",
              "    </tr>\n",
              "    <tr>\n",
              "      <th>1</th>\n",
              "      <td>constant 1</td>\n",
              "      <td>0.756757</td>\n",
              "      <td>0.756757</td>\n",
              "      <td>0.430769</td>\n",
              "      <td>0.430769</td>\n",
              "    </tr>\n",
              "    <tr>\n",
              "      <th>2</th>\n",
              "      <td>constant 2</td>\n",
              "      <td>0.243243</td>\n",
              "      <td>0.243243</td>\n",
              "      <td>0.195652</td>\n",
              "      <td>0.195652</td>\n",
              "    </tr>\n",
              "    <tr>\n",
              "      <th>3</th>\n",
              "      <td>most frequent label</td>\n",
              "      <td>0.756757</td>\n",
              "      <td>0.756757</td>\n",
              "      <td>0.430769</td>\n",
              "      <td>0.430769</td>\n",
              "    </tr>\n",
              "    <tr>\n",
              "      <th>4</th>\n",
              "      <td>stratified</td>\n",
              "      <td>0.675676</td>\n",
              "      <td>0.540541</td>\n",
              "      <td>0.588889</td>\n",
              "      <td>0.398086</td>\n",
              "    </tr>\n",
              "    <tr>\n",
              "      <th>5</th>\n",
              "      <td>knn</td>\n",
              "      <td>0.540541</td>\n",
              "      <td>0.729730</td>\n",
              "      <td>0.350877</td>\n",
              "      <td>0.502688</td>\n",
              "    </tr>\n",
              "  </tbody>\n",
              "</table>\n",
              "</div>"
            ],
            "text/plain": [
              "            Classifier  F1 Micro (before)  ...  F1 Macro (before)  F1 Macro (after)\n",
              "0     uniform (random)           0.486486  ...           0.461303          0.461303\n",
              "1           constant 1           0.756757  ...           0.430769          0.430769\n",
              "2           constant 2           0.243243  ...           0.195652          0.195652\n",
              "3  most frequent label           0.756757  ...           0.430769          0.430769\n",
              "4           stratified           0.675676  ...           0.588889          0.398086\n",
              "5                  knn           0.540541  ...           0.350877          0.502688\n",
              "\n",
              "[6 rows x 5 columns]"
            ]
          },
          "metadata": {
            "tags": []
          },
          "execution_count": 36
        }
      ]
    },
    {
      "cell_type": "markdown",
      "metadata": {
        "id": "81tqDFliFwFQ"
      },
      "source": [
        "### **Σχολιασμός**"
      ]
    },
    {
      "cell_type": "markdown",
      "metadata": {
        "id": "7tnCXm_pjP1N"
      },
      "source": [
        "Μετά τη βελτιστοποίηση με τη στρατηγική PCA παρατηρούμε για τους ταξινομητές ως προς τις **μετρικές F1 Micro και F1 Macro** από τα bar plots και τον παραπάνω συγκεντρωτικό πίνακα:\n",
        "* Δεν παρατηρείται βελτίωση των μετρικών για τους dummy ταξινομητές γεγονός που εξηγείται καθώς η επίδοσή τους δεν επηρεάζεται από την αρχιτεκτονική προεπεξεργασίας των δεδομένων.\n",
        "*  Οι τιμές των μετρικών για τον Constant 2 παραμένουν οι μικρότερες, κάτι που είναι λογικό αφού δε μεταβάλλεται η αναλογία των δειγμάτων κλάσης 2.\n",
        "*   Ο kNN προσεγγίζει τη μέγιστη τιμή της μετρικής F1 Micro και εμφανίζει τη μέγιστη τιμή για τη μετρική F1 Macro.\n",
        "\n",
        "\n",
        "\n",
        "\n",
        "\n"
      ]
    }
  ]
}